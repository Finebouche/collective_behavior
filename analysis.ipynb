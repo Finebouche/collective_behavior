{
 "cells": [
  {
   "cell_type": "markdown",
   "id": "8c030f81-5bb9-4e2a-a714-1a98e71b907c",
   "metadata": {},
   "source": [
    "# Animation"
   ]
  },
  {
   "cell_type": "code",
   "execution_count": null,
   "id": "77679688-0c31-4908-891e-7ac9544ab8b4",
   "metadata": {
    "execution": {
     "iopub.execute_input": "2023-12-10T22:22:36.810949Z",
     "iopub.status.busy": "2023-12-10T22:22:36.810605Z",
     "iopub.status.idle": "2023-12-10T22:22:48.869668Z",
     "shell.execute_reply": "2023-12-10T22:22:48.869236Z",
     "shell.execute_reply.started": "2023-12-10T22:22:36.810928Z"
    }
   },
   "outputs": [],
   "source": [
    "import ray\n",
    "from ray.rllib.algorithms.algorithm import Algorithm\n",
    "import numpy as np\n",
    "from custom_env import CustomEnvironment\n",
    "from config import run_config\n",
    "\n",
    "def process_observations(observation, agent_ids, truncation=None):\n",
    "    loc_x = [observation[key][0] if key in observation else 0 for key in agent_ids]\n",
    "    loc_y = [observation[key][1] if key in observation else 0 for key in agent_ids]\n",
    "    heading = [observation[key][2] if key in observation else 0 for key in agent_ids]\n",
    "    if truncation:\n",
    "        still_in_the_game = [1 if not truncation[key] else 0 for key in agent_ids]\n",
    "    else:\n",
    "        still_in_the_game = [1 for _ in agent_ids]\n",
    "    observations[\"loc_x\"].append(np.array(loc_x))\n",
    "    observations[\"loc_y\"].append(np.array(loc_y))\n",
    "    observations[\"heading\"].append(np.array(heading))\n",
    "    observations[\"still_in_the_game\"].append(np.array(still_in_the_game))\n",
    "\n",
    "    return observations\n",
    "\n",
    "\n",
    "path_to_checkpoint = \"/Users/tanguy/ray_results/PPO_2023-12-10_17-58-05/PPO_CustomEnvironment_49b3e_00000_0_2023-12-10_17-58-05/checkpoint_000134\"\n",
    "\n",
    "# This does ray.init()\n",
    "algo = Algorithm.from_checkpoint(path_to_checkpoint)\n",
    "# After loading the algorithm\n",
    "available_policy_ids = list(algo.workers.local_worker().policy_map.keys())\n",
    "print(\"Available Policy IDs:\", available_policy_ids)\n",
    "\n",
    "env = CustomEnvironment(run_config[\"env\"])\n",
    "\n",
    "observations = {\"loc_x\": [], \"loc_y\": [], \"heading\": [], \"still_in_the_game\": []}\n",
    "observation, _ = env.reset()\n",
    "agent_ids = env._agent_ids\n",
    "loc_x, loc_y, heading, still_in_the_game = process_observations(observation, agent_ids)\n",
    "step_count = 1\n",
    "\n",
    "while step_count < 500:\n",
    "    actions = {\n",
    "        key: algo.compute_single_action(\n",
    "            value, policy_id=\"prey\" if env.agents[key].agent_type == 0 else \"predator\"\n",
    "        ) for key, value in observation.items()\n",
    "    }\n",
    "\n",
    "    observation, _, termination, truncation, _ = env.step(actions)\n",
    "    observations = process_observations(observation, agent_ids, truncation)\n",
    "    step_count += 1\n",
    "\n",
    "grid_diagonal = env.grid_diagonal\n",
    "observations[\"loc_x\"] = np.array(observations[\"loc_x\"]) * grid_diagonal\n",
    "observations[\"loc_y\"] = np.array(observations[\"loc_y\"]) * grid_diagonal\n",
    "observations[\"heading\"] = np.array(observations[\"heading\"])\n",
    "observations[\"still_in_the_game\"] = np.array(observations[\"still_in_the_game\"])\n",
    "\n",
    "env.close()\n",
    "ray.shutdown()"
   ]
  },
  {
   "cell_type": "code",
   "execution_count": null,
   "id": "bc32e38d-7f7b-4612-bc51-78416842c65c",
   "metadata": {
    "execution": {
     "iopub.execute_input": "2023-12-10T22:22:48.870825Z",
     "iopub.status.busy": "2023-12-10T22:22:48.870702Z",
     "iopub.status.idle": "2023-12-10T22:22:54.310273Z",
     "shell.execute_reply": "2023-12-10T22:22:54.309866Z",
     "shell.execute_reply.started": "2023-12-10T22:22:48.870816Z"
    }
   },
   "outputs": [],
   "source": [
    "from IPython.display import HTML\n",
    "from animation import generate_animation_3d\n",
    "\n",
    "ani = generate_animation_3d(observations, env, fps=10)\n",
    "\n",
    "HTML(ani.to_html5_video())"
   ]
  },
  {
   "cell_type": "markdown",
   "id": "97b71db8-253c-421a-b8f8-40b402efe2ca",
   "metadata": {},
   "source": [
    "# Network visualization"
   ]
  },
  {
   "cell_type": "code",
   "execution_count": null,
   "id": "303536c0-fbd1-4c5e-a5f0-1d2c8e15ae1f",
   "metadata": {
    "execution": {
     "iopub.status.busy": "2023-12-10T21:49:45.651803Z",
     "iopub.status.idle": "2023-12-10T21:49:45.652719Z",
     "shell.execute_reply": "2023-12-10T21:49:45.652630Z",
     "shell.execute_reply.started": "2023-12-10T21:49:45.652623Z"
    }
   },
   "outputs": [],
   "source": [
    "# Example shape\n",
    "print(algo.get_policy(available_policy_ids[0]).get_weights()['pi.net.mlp.0.bias'].shape)\n",
    "# We create a subdictionnary with the interresting layers\n",
    "actor_weights = {}\n",
    "for key, value in algo.get_policy(available_policy_ids[0]).get_weights().items():\n",
    "    if \"critic_encoder\" not in key and \"vf.\" not in key:\n",
    "        actor_weights[key] = value\n",
    "\n",
    "actor_weights.keys()"
   ]
  },
  {
   "cell_type": "code",
   "execution_count": null,
   "id": "c8ceb75c-8281-4826-9931-4c89af24eba2",
   "metadata": {
    "execution": {
     "iopub.status.busy": "2023-12-10T21:49:45.653476Z",
     "iopub.status.idle": "2023-12-10T21:49:45.653621Z",
     "shell.execute_reply": "2023-12-10T21:49:45.653536Z",
     "shell.execute_reply.started": "2023-12-10T21:49:45.653530Z"
    }
   },
   "outputs": [],
   "source": [
    "import numpy as np\n",
    "\n",
    "from graph_tool.all import *\n",
    "\n",
    "def create_graph(neural_network):\n",
    "    g = Graph(directed=True)\n",
    "    \n",
    "    # Create property maps for vertex and edge labels and edge width\n",
    "    v_label = g.new_vertex_property(\"string\")\n",
    "    e_width = g.new_edge_property(\"double\")\n",
    "    pos = g.new_vertex_property(\"vector<double>\")\n",
    "    \n",
    "    max_neurons = max(len(neural_network[key]) for key in neural_network if 'weight' in key)\n",
    "\n",
    "    def add_layer_and_set_positions(neurons, x_pos, pos):\n",
    "        layer_vertices = [g.add_vertex() for _ in neurons]\n",
    "        starting_y = (max_neurons - len(layer_vertices)) / 2\n",
    "        for i, v in enumerate(layer_vertices):\n",
    "            pos[v] = (x_pos, starting_y + len(layer_vertices) - 1 - i)\n",
    "        return layer_vertices\n",
    "    \n",
    "    ## VERTEX ##\n",
    "    # Input Layer\n",
    "    layers = [add_layer_and_set_positions(neural_network['encoder.actor_encoder.net.mlp.0.weight'].T, 0, pos)]\n",
    "    \n",
    "    # Hiden Layers\n",
    "    x_gap = 20 # gap between layers\n",
    "    biases_keys = [key for key in neural_network if \".bias\" in key and \"actor_encoder\" in key]\n",
    "    for i, biases_key in enumerate(biases_keys):\n",
    "        # Add vertices for the current layer and set their positions\n",
    "        layers.append(add_layer_and_set_positions(neural_network[biases_key], x_gap*(i+1), pos))\n",
    "        \n",
    "    # Output Layer\n",
    "    output_neurons = add_layer_and_set_positions(neural_network['pi.net.mlp.0.bias'], x_gap*4, pos)\n",
    "\n",
    "    ## EDGES ##\n",
    "    # Set labels and add edges for input-hidden and hidden-hidden layer\n",
    "    weights_keys = [key for key in neural_network if \".weight\" in key and \"actor_encoder\" in key]\n",
    "    for k, weights_key in enumerate(weights_keys):\n",
    "        for i, hidden_neuron in enumerate(layers[k]):\n",
    "            for j, next_hidden_neuron in enumerate(layers[k+1]):\n",
    "                e = g.add_edge(hidden_neuron, next_hidden_neuron)\n",
    "                weight = neural_network[weights_key].T[i][j]\n",
    "                e_width[e] = weight\n",
    "\n",
    "    # Set labels and add edges for hidden-output layer\n",
    "    for j, output_neuron in enumerate(output_neurons):\n",
    "        for i, hidden_neuron in enumerate(layers[-1]):\n",
    "            e = g.add_edge(hidden_neuron, output_neuron)\n",
    "            weight = neural_network['pi.net.mlp.0.weight'].T[i][j]\n",
    "            e_width[e] = weight\n",
    "\n",
    "    \n",
    "    # LABELS\n",
    "    # Set neuron labels (optional, for clarity)\n",
    "    for v in layers[0]:\n",
    "        v_label[v] = \"I\"\n",
    "    for k, hidden_neurons in enumerate(layers):\n",
    "        for v in hidden_neurons:\n",
    "            v_label[v] = \"H\"\n",
    "    for v in output_neurons:\n",
    "        v_label[v] = \"O\"\n",
    "\n",
    "    return g, pos, v_label, e_width\n",
    "\n",
    "# Example usage with the same nn_wandb\n",
    "g, pos, v_label, e_width = create_graph(actor_weights)\n",
    "\n",
    "# Draw the graph\n",
    "graph_draw(g, pos=pos, vertex_text=v_label, edge_text=None, edge_pen_width=e_width, vertex_size=15, vertex_font_size=10, edge_font_size=10, output_size=(800, 800))\n",
    "    "
   ]
  },
  {
   "cell_type": "code",
   "execution_count": null,
   "id": "86f0920d-f9f5-4a2b-9f6b-982b8e640289",
   "metadata": {
    "execution": {
     "iopub.status.busy": "2023-12-10T21:49:45.654604Z",
     "iopub.status.idle": "2023-12-10T21:49:45.654792Z",
     "shell.execute_reply": "2023-12-10T21:49:45.654660Z",
     "shell.execute_reply.started": "2023-12-10T21:49:45.654656Z"
    }
   },
   "outputs": [],
   "source": [
    "import numpy as np\n",
    "\n",
    "def neural_net_activation(input_vector, neural_dic):\n",
    "    # Ensuring the input is a numpy array\n",
    "    input_vector = np.array(input_vector)\n",
    "\n",
    "    # Layer activations\n",
    "    activations = {}\n",
    "\n",
    "    # First three hidden layers\n",
    "    for i in range(3):\n",
    "        weight_key = f\"encoder.actor_encoder.net.mlp.{2*i}.weight\"\n",
    "        bias_key = f\"encoder.actor_encoder.net.mlp.{2*i}.bias\"\n",
    "\n",
    "        if i == 0:\n",
    "            layer_input = input_vector\n",
    "        else:\n",
    "            layer_input = activations[f\"layer_{i}\"]\n",
    "\n",
    "        # Calculate the layer output\n",
    "        z = np.dot(layer_input, neural_dic[weight_key].T) + neural_dic[bias_key]\n",
    "        activations[f\"layer_{i+1}\"] = np.tanh(z)\n",
    "\n",
    "    # Output layer\n",
    "    weight_key = \"pi.net.mlp.0.weight\"\n",
    "    bias_key = \"pi.net.mlp.0.bias\"\n",
    "    output_layer_input = activations[\"layer_3\"]\n",
    "    z = np.dot(output_layer_input, neural_dic[weight_key].T) + neural_dic[bias_key]\n",
    "    activations[\"output\"] = np.tanh(z)\n",
    "\n",
    "    return activations\n",
    "\n",
    "toy_vector = [0.01660228, 0.96898439, 0.548222  , 0.95600354, 0.36926809,\n",
    " 0.07873756, 0.38905384, 0.92927526, 0.08713003, 0.61284082,\n",
    " 0.82746801, 0.36660529, 0.89503505, 0.04707359, 0.97744959,\n",
    " 0.28597701, 0.96454964, 0.29067754, 0.74090134, 0.8245886, 0.96454964, 0.29067754, 0.74090134, 0.8245886,\n",
    "             0.96454964, 0.29067754, 0.74090134, 0.8245886, 0.96454964, 0.29067754]\n",
    "\n",
    "activations = neural_net_activation(toy_vector, actor_weights)\n",
    "\n",
    "activations[\"output\"]"
   ]
  },
  {
   "cell_type": "code",
   "execution_count": null,
   "id": "48e60580-5b64-488e-86bc-2aa98771edb1",
   "metadata": {
    "execution": {
     "iopub.status.busy": "2023-12-10T21:49:45.655996Z",
     "iopub.status.idle": "2023-12-10T21:49:45.656171Z",
     "shell.execute_reply": "2023-12-10T21:49:45.656054Z",
     "shell.execute_reply.started": "2023-12-10T21:49:45.656049Z"
    }
   },
   "outputs": [],
   "source": [
    "algo.compute_single_action(toy_vector, policy_id=\"prey\", full_fetch=True)"
   ]
  },
  {
   "cell_type": "code",
   "execution_count": null,
   "id": "cb7b19ef-8a23-4267-8ae9-eeab78442b91",
   "metadata": {
    "execution": {
     "iopub.status.busy": "2023-12-10T21:49:45.656683Z",
     "iopub.status.idle": "2023-12-10T21:49:45.656848Z",
     "shell.execute_reply": "2023-12-10T21:49:45.656743Z",
     "shell.execute_reply.started": "2023-12-10T21:49:45.656739Z"
    }
   },
   "outputs": [],
   "source": [
    "algo.compute_single_action(toy_vector, policy_id=\"prey\")"
   ]
  },
  {
   "cell_type": "code",
   "execution_count": null,
   "id": "b8103585-6e1a-434e-a5e3-4be011a62637",
   "metadata": {
    "execution": {
     "iopub.status.busy": "2023-12-10T21:49:45.657897Z",
     "iopub.status.idle": "2023-12-10T21:49:45.658717Z",
     "shell.execute_reply": "2023-12-10T21:49:45.658363Z",
     "shell.execute_reply.started": "2023-12-10T21:49:45.658351Z"
    }
   },
   "outputs": [],
   "source": [
    "%matplotlib inline\n",
    "import matplotlib.pyplot as plt\n",
    "import numpy as np\n",
    "from ipywidgets import interactive, FloatSlider, VBox, HBox\n",
    "from IPython.display import display\n",
    "\n",
    "def update_plot_observation(r, theta):\n",
    "    x = r * np.cos(theta)\n",
    "    y = r * np.sin(theta)\n",
    "\n",
    "    plt.figure(1)\n",
    "    plt.plot(x, y, 'ro') # Red point at the polar coordinates\n",
    "    plt.xlim(-10, 10)\n",
    "    plt.ylim(-10, 10)\n",
    "    plt.axhline(0, color='black',linewidth=0.5)\n",
    "    plt.axvline(0, color='black',linewidth=0.5)\n",
    "\n",
    "    plt.show()\n",
    "\n",
    "# Function to update the plot\n",
    "def update_plot_actions(r, theta):\n",
    "\n",
    "    toy_vector = np.zeros(30)\n",
    "    toy_vector[5] = 0 #prey\n",
    "    toy_vector[6] = r / env.grid_diagonal #distance\n",
    "    toy_vector[7] = theta / (2 * np.pi) #angle\n",
    "    toy_vector[8] = theta / np.pi #orientation\n",
    "    toy_vector[9] = 0 #prey type\n",
    "\n",
    "    activations = neural_net_activation(toy_vector, actor_weights)\n",
    "    mean1, std1, mean2, std2 = activations[\"output\"]\n",
    "\n",
    "    # Generate points on the x axis\n",
    "    x = np.linspace(-10, 10, 1000)\n",
    "\n",
    "    # Calculate the y values for each bell curve\n",
    "    y1 = (1 / (np.sqrt(2 * np.pi) * std1)) * np.exp(-0.5 * ((x - mean1) / std1)**2)\n",
    "    y2 = (1 / (np.sqrt(2 * np.pi) * std2)) * np.exp(-0.5 * ((x - mean2) / std2)**2)\n",
    "\n",
    "    # Plotting with specific styling\n",
    "    plt.figure(1)  # Size of the plot\n",
    "    plt.plot(x, y1, color='blue', linestyle='-', linewidth=2, label=f'amplitude')\n",
    "    plt.plot(x, y2, color='red', linestyle='--', linewidth=2, label=f'orientation')\n",
    "    plt.grid(True)\n",
    "    plt.legend()\n",
    "    plt.show()\n",
    "    \n",
    "# Interactive sliders for radius and angle\n",
    "radius_slider = FloatSlider(min=0, max=10, step=0.1, value=5, description='Radius (r)', orientation='vertical')\n",
    "theta_slider = FloatSlider(min=-np.pi, max=np.pi, step=0.1, value=np.pi/4, description='Angle (θ)', orientation='vertical')\n",
    "\n",
    "# Create VBox for sliders\n",
    "slider_box = HBox([radius_slider, theta_slider])\n",
    "\n",
    "# Create the interactive plot\n",
    "interactive_plot1 = interactive(update_plot_observation, r=radius_slider, theta=theta_slider)\n",
    "interactive_plot2 = interactive(update_plot_actions, r=radius_slider, theta=theta_slider)\n",
    "\n",
    "# Extract the output and set the height\n",
    "output1 = interactive_plot1.children[-1]\n",
    "output2 = interactive_plot2.children[-1]\n",
    "\n",
    "# Display using HBox\n",
    "display(HBox([slider_box, output1, output2]))"
   ]
  },
  {
   "cell_type": "code",
   "execution_count": null,
   "id": "3a78f2e9-a06e-4051-a071-ac272e1005c7",
   "metadata": {},
   "outputs": [],
   "source": []
  },
  {
   "cell_type": "code",
   "execution_count": null,
   "id": "2a005bc7-7486-4ef3-b594-6b96b137dc1b",
   "metadata": {},
   "outputs": [],
   "source": [
    "\n"
   ]
  }
 ],
 "metadata": {
  "kernelspec": {
   "display_name": "Python 3 (ipykernel)",
   "language": "python",
   "name": "python3"
  },
  "language_info": {
   "codemirror_mode": {
    "name": "ipython",
    "version": 3
   },
   "file_extension": ".py",
   "mimetype": "text/x-python",
   "name": "python",
   "nbconvert_exporter": "python",
   "pygments_lexer": "ipython3",
   "version": "3.10.13"
  }
 },
 "nbformat": 4,
 "nbformat_minor": 5
}
