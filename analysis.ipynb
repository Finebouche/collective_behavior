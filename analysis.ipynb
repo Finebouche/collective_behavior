{
 "cells": [
  {
   "cell_type": "markdown",
   "id": "8c030f81-5bb9-4e2a-a714-1a98e71b907c",
   "metadata": {},
   "source": [
    "# Animation"
   ]
  },
  {
   "cell_type": "code",
   "execution_count": null,
   "id": "77679688-0c31-4908-891e-7ac9544ab8b4",
   "metadata": {},
   "outputs": [],
   "source": [
    "import ray\n",
    "from ray.rllib.algorithms.algorithm import Algorithm\n",
    "import numpy as np\n",
    "from custom_env import CustomEnvironment\n",
    "from config import run_config\n",
    "\n",
    "def process_observations(observations, current_observation, agent_ids, termination=None):\n",
    "    loc_x = [current_observation[key][0] if key in current_observation else 0 for key in agent_ids]\n",
    "    loc_y = [current_observation[key][1] if key in current_observation else 0 for key in agent_ids]\n",
    "    heading = [current_observation[key][2] if key in current_observation else 0 for key in agent_ids]\n",
    "    if termination:\n",
    "        still_in_the_game = [1 if not termination[key] else 0 for key in agent_ids]\n",
    "    else:\n",
    "        still_in_the_game = [1 for _ in agent_ids]\n",
    "    observations[\"loc_x\"].append(np.array(loc_x))\n",
    "    observations[\"loc_y\"].append(np.array(loc_y))\n",
    "    observations[\"heading\"].append(np.array(heading))\n",
    "    observations[\"still_in_the_game\"].append(np.array(still_in_the_game))\n",
    "\n",
    "    return observations\n",
    "\n",
    "def collect_observations(path_to_checkpoint, env):\n",
    "    # Load the checkpoint\n",
    "    algo = Algorithm.from_checkpoint(path_to_checkpoint)\n",
    "    \n",
    "    observations = {\"loc_x\": [], \"loc_y\": [], \"heading\": [], \"still_in_the_game\": []}\n",
    "    \n",
    "    # Run simulation\n",
    "    observation, _ = env.reset()\n",
    "    for step_count in range(run_config[\"env\"][\"episode_length\"]):\n",
    "        actions = {\n",
    "            key: algo.compute_single_action(\n",
    "                obs_batch, policy_id=\"prey\" if env.agents[key].agent_type == 0 else \"predator\"\n",
    "            ) for key, obs_batch in observation.items()\n",
    "        }\n",
    "    \n",
    "        observation, _, termination, _, _ = env.step(actions)\n",
    "        observations = process_observations(observations, observation, env._agent_ids, termination)\n",
    "    \n",
    "    grid_diagonal = env.grid_diagonal\n",
    "    observations[\"loc_x\"] = np.array(observations[\"loc_x\"]) * grid_diagonal\n",
    "    observations[\"loc_y\"] = np.array(observations[\"loc_y\"]) * grid_diagonal\n",
    "    observations[\"heading\"] = np.array(observations[\"heading\"])\n",
    "    observations[\"still_in_the_game\"] = np.array(observations[\"still_in_the_game\"])\n",
    "    \n",
    "    env.close()\n",
    "    ray.shutdown()\n",
    "    \n",
    "    return observations\n",
    "\n",
    "\n",
    "# Initialize environment\n",
    "run_config[\"env\"][\"episode_length\"] = 500\n",
    "env = CustomEnvironment(run_config[\"env\"])\n",
    "\n",
    "path_to_checkpoint = \"/home/jovyan/ray_results/PPO_2024-01-22_11-10-36/PPO_CustomEnvironment_de13f_00000_0_2024-01-22_11-10-36/checkpoint_000011\"\n",
    "observations = collect_observations(path_to_checkpoint, env)\n"
   ]
  },
  {
   "cell_type": "code",
   "execution_count": null,
   "id": "bc32e38d-7f7b-4612-bc51-78416842c65c",
   "metadata": {},
   "outputs": [],
   "source": [
    "from IPython.display import HTML\n",
    "from animation import generate_animation_3d\n",
    "\n",
    "ani = generate_animation_3d(observations, env, fps=10)\n",
    "\n",
    "HTML(ani.to_html5_video())"
   ]
  },
  {
   "cell_type": "markdown",
   "id": "f6b0fd8d-2414-4e3b-968e-72be6c21ce55",
   "metadata": {},
   "source": [
    "# Metrics"
   ]
  },
  {
   "cell_type": "code",
   "execution_count": null,
   "id": "5c2e6d25-245e-4cee-8d0f-3933f975ba27",
   "metadata": {},
   "outputs": [],
   "source": [
    "import matplotlib.pyplot as plt\n",
    "from metrics import calculate_dos\n",
    "\n",
    "# Load the checkpoint\n",
    "general_path = \"/home/jovyan/ray_results/PPO_2024-01-10_09-36-02/PPO_CustomEnvironment_ab3c9_00000_0_2024-01-10_09-36-02/checkpoint_000105\"\n",
    "\n",
    "dos = []\n",
    "for i in range(11):\n",
    "    path_to_checkpoint = general_path + str(i).zfill(3)\n",
    "    observations = collect_observations(path_to_checkpoint, env)\n",
    "    dos.append(calculate_dos(observations, env.stage_size))\n",
    "\n",
    "# plot dos curve\n",
    "plt.plot(dos)\n",
    "plt.show()"
   ]
  },
  {
   "cell_type": "code",
   "execution_count": null,
   "id": "5298f3b584d698b8",
   "metadata": {
    "collapsed": false,
    "jupyter": {
     "outputs_hidden": false
    }
   },
   "outputs": [],
   "source": [
    "import matplotlib.pyplot as plt\n",
    "\n",
    "# plot dos curve\n",
    "plt.plot(dos)\n",
    "plt.show()"
   ]
  },
  {
   "cell_type": "code",
   "execution_count": null,
   "id": "8defd15b-e9e5-42fe-8126-bc33dbdc28b9",
   "metadata": {},
   "outputs": [],
   "source": []
  },
  {
   "cell_type": "code",
   "execution_count": null,
   "id": "0eec970f-2a58-4e9c-bfc4-46e41da72f8d",
   "metadata": {},
   "outputs": [],
   "source": []
  },
  {
   "cell_type": "markdown",
   "id": "726b9d2d-06a6-4a4d-a6c2-e8768735e6ea",
   "metadata": {},
   "source": [
    "# Brouillon"
   ]
  },
  {
   "cell_type": "code",
   "execution_count": null,
   "id": "64437b18-9699-45c1-a972-1afc5c553a0b",
   "metadata": {},
   "outputs": [],
   "source": [
    "\n",
    "\n",
    "toy_vector = np.zeros(27)\n",
    "toy_vector[3] = 0 #prey\n",
    "toy_vector[4] = 20 / env.grid_diagonal #distance\n",
    "toy_vector[5] = 0.5 / (2 * np.pi) #angle\n",
    "toy_vector[6] = 0.6 / np.pi #orientation\n",
    "toy_vector[7] = 1 #prey type\n",
    "\n"
   ]
  },
  {
   "cell_type": "code",
   "execution_count": null,
   "id": "7d6bec75-eb00-4052-a54b-897064368a4a",
   "metadata": {},
   "outputs": [],
   "source": [
    "algo.compute_single_action(toy_vector, policy_id=\"prey\", full_fetch=True)\n"
   ]
  },
  {
   "cell_type": "code",
   "execution_count": null,
   "id": "4af37094-77be-4a80-b60a-9a1f5fb1d8d3",
   "metadata": {},
   "outputs": [],
   "source": [
    "policy.make_model_and_action_dist"
   ]
  },
  {
   "cell_type": "code",
   "execution_count": null,
   "id": "4c12a046-654b-498b-a19e-7a7455c6b287",
   "metadata": {},
   "outputs": [],
   "source": [
    "import torch\n",
    "\n",
    "policy = algo.get_policy(\"prey\")\n",
    "fc_net_output = policy.model.encoder.actor_encoder.net.mlp(torch.Tensor(toy_vector))\n",
    "\n",
    "outputs = policy.model.pi.net(fc_net_output).tolist()"
   ]
  },
  {
   "cell_type": "code",
   "execution_count": null,
   "id": "2b34739d-4ca3-49b0-bbcf-41aa242c1ea9",
   "metadata": {},
   "outputs": [],
   "source": [
    "policy.model.config"
   ]
  },
  {
   "cell_type": "code",
   "execution_count": null,
   "id": "3ae2e025-8041-4c6f-81c6-5da0736fc38f",
   "metadata": {},
   "outputs": [],
   "source": [
    "model_config = policy.model.config\n",
    "catalog = model_config.catalog_class(model_config.observation_space, model_config.action_space, model_config.model_config_dict)\n",
    "\n"
   ]
  },
  {
   "cell_type": "code",
   "execution_count": null,
   "id": "5efac95b-04ae-4dc1-b08e-b798f55b0127",
   "metadata": {},
   "outputs": [],
   "source": [
    "action_dist_class = catalog.get_action_dist_cls(framework=\"torch\")\n",
    "\n",
    "fc_net_output = policy.model.encoder.actor_encoder.net.mlp(torch.Tensor(toy_vector))\n",
    "\n",
    "action_dist_inputs = policy.model.pi.net(fc_net_output)\n",
    "\n",
    "action_dist = action_dist_class.from_logits(action_dist_inputs)\n",
    "actions = action_dist.sample().numpy()\n",
    "actions"
   ]
  },
  {
   "cell_type": "code",
   "execution_count": null,
   "id": "7dd460f7-7eb2-4472-b037-a6e63cdc4d5b",
   "metadata": {},
   "outputs": [],
   "source": [
    "action_dist"
   ]
  },
  {
   "cell_type": "code",
   "execution_count": null,
   "id": "2362d632-5d61-4144-b5ce-bf6d831bb277",
   "metadata": {},
   "outputs": [],
   "source": [
    "action_dist_class"
   ]
  },
  {
   "cell_type": "code",
   "execution_count": null,
   "id": "89dea25e-be6b-4cb0-b78c-0749975c65a5",
   "metadata": {},
   "outputs": [],
   "source": [
    "policy.model"
   ]
  },
  {
   "cell_type": "markdown",
   "id": "97b71db8-253c-421a-b8f8-40b402efe2ca",
   "metadata": {},
   "source": [
    "# Network visualization"
   ]
  },
  {
   "cell_type": "code",
   "execution_count": null,
   "id": "303536c0-fbd1-4c5e-a5f0-1d2c8e15ae1f",
   "metadata": {},
   "outputs": [],
   "source": [
    "# Example shape\n",
    "print(algo.get_policy(available_policy_ids[0]).get_weights()['pi.net.mlp.0.bias'].shape)\n",
    "# We create a subdictionnary with the interresting layers\n",
    "actor_weights = {}\n",
    "for key, value in algo.get_policy(available_policy_ids[0]).get_weights().items():\n",
    "    if \"critic_encoder\" not in key and \"vf.\" not in key:\n",
    "        actor_weights[key] = value\n",
    "\n",
    "actor_weights.keys()"
   ]
  },
  {
   "cell_type": "code",
   "execution_count": null,
   "id": "c8ceb75c-8281-4826-9931-4c89af24eba2",
   "metadata": {},
   "outputs": [],
   "source": [
    "import numpy as np\n",
    "\n",
    "from graph_tool.all import *\n",
    "\n",
    "def create_graph(neural_network):\n",
    "    g = Graph(directed=True)\n",
    "    \n",
    "    # Create property maps for vertex and edge labels and edge width\n",
    "    v_label = g.new_vertex_property(\"string\")\n",
    "    e_width = g.new_edge_property(\"double\")\n",
    "    pos = g.new_vertex_property(\"vector<double>\")\n",
    "    \n",
    "    max_neurons = max(len(neural_network[key]) for key in neural_network if 'weight' in key)\n",
    "\n",
    "    def add_layer_and_set_positions(neurons, x_pos, pos):\n",
    "        layer_vertices = [g.add_vertex() for _ in neurons]\n",
    "        starting_y = (max_neurons - len(layer_vertices)) / 2\n",
    "        for i, v in enumerate(layer_vertices):\n",
    "            pos[v] = (x_pos, starting_y + len(layer_vertices) - 1 - i)\n",
    "        return layer_vertices\n",
    "    \n",
    "    ## VERTEX ##\n",
    "    # Input Layer\n",
    "    layers = [add_layer_and_set_positions(neural_network['encoder.actor_encoder.net.mlp.0.weight'].T, 0, pos)]\n",
    "    \n",
    "    # Hiden Layers\n",
    "    x_gap = 20 # gap between layers\n",
    "    biases_keys = [key for key in neural_network if \".bias\" in key and \"actor_encoder\" in key]\n",
    "    for i, biases_key in enumerate(biases_keys):\n",
    "        # Add vertices for the current layer and set their positions\n",
    "        layers.append(add_layer_and_set_positions(neural_network[biases_key], x_gap*(i+1), pos))\n",
    "        \n",
    "    # Output Layer\n",
    "    output_neurons = add_layer_and_set_positions(neural_network['pi.net.mlp.0.bias'], x_gap*4, pos)\n",
    "\n",
    "    ## EDGES ##\n",
    "    # Set labels and add edges for input-hidden and hidden-hidden layer\n",
    "    weights_keys = [key for key in neural_network if \".weight\" in key and \"actor_encoder\" in key]\n",
    "    for k, weights_key in enumerate(weights_keys):\n",
    "        for i, hidden_neuron in enumerate(layers[k]):\n",
    "            for j, next_hidden_neuron in enumerate(layers[k+1]):\n",
    "                e = g.add_edge(hidden_neuron, next_hidden_neuron)\n",
    "                weight = neural_network[weights_key].T[i][j]\n",
    "                e_width[e] = weight\n",
    "\n",
    "    # Set labels and add edges for hidden-output layer\n",
    "    for j, output_neuron in enumerate(output_neurons):\n",
    "        for i, hidden_neuron in enumerate(layers[-1]):\n",
    "            e = g.add_edge(hidden_neuron, output_neuron)\n",
    "            weight = neural_network['pi.net.mlp.0.weight'].T[i][j]\n",
    "            e_width[e] = weight\n",
    "\n",
    "    \n",
    "    # LABELS\n",
    "    # Set neuron labels (optional, for clarity)\n",
    "    for v in layers[0]:\n",
    "        v_label[v] = \"I\"\n",
    "    for k, hidden_neurons in enumerate(layers):\n",
    "        for v in hidden_neurons:\n",
    "            v_label[v] = \"H\"\n",
    "    for v in output_neurons:\n",
    "        v_label[v] = \"O\"\n",
    "\n",
    "    return g, pos, v_label, e_width\n",
    "\n",
    "# Example usage with the same nn_wandb\n",
    "g, pos, v_label, e_width = create_graph(actor_weights)\n",
    "\n",
    "# Draw the graph\n",
    "graph_draw(g, pos=pos, vertex_text=v_label, edge_text=None, edge_pen_width=e_width, vertex_size=15, vertex_font_size=10, edge_font_size=10, output_size=(800, 800))\n",
    "    "
   ]
  },
  {
   "cell_type": "code",
   "execution_count": null,
   "id": "86f0920d-f9f5-4a2b-9f6b-982b8e640289",
   "metadata": {},
   "outputs": [],
   "source": [
    "import numpy as np\n",
    "\n",
    "def neural_net_activation(input_vector, neural_dic):\n",
    "    # Ensuring the input is a numpy array\n",
    "    input_vector = np.array(input_vector)\n",
    "\n",
    "    # Layer activations\n",
    "    activations = {}\n",
    "\n",
    "    # First three hidden layers\n",
    "    for i in range(3):\n",
    "        weight_key = f\"encoder.actor_encoder.net.mlp.{2*i}.weight\"\n",
    "        bias_key = f\"encoder.actor_encoder.net.mlp.{2*i}.bias\"\n",
    "\n",
    "        if i == 0:\n",
    "            layer_input = input_vector\n",
    "        else:\n",
    "            layer_input = activations[f\"layer_{i}\"]\n",
    "\n",
    "        # Calculate the layer output\n",
    "        z = np.dot(layer_input, neural_dic[weight_key].T) + neural_dic[bias_key]\n",
    "        activations[f\"layer_{i+1}\"] = np.tanh(z)\n",
    "\n",
    "    # Output layer\n",
    "    weight_key = \"pi.net.mlp.0.weight\"\n",
    "    bias_key = \"pi.net.mlp.0.bias\"\n",
    "    output_layer_input = activations[\"layer_3\"]\n",
    "    z = np.dot(output_layer_input, neural_dic[weight_key].T) + neural_dic[bias_key]\n",
    "    activations[\"output\"] = np.tanh(z)\n",
    "\n",
    "    return activations\n",
    "\n",
    "toy_vector = [0.95600354, 0.36926809,\n",
    " 0.07873756, 0.38905384, 0.92927526, 0.08713003, 0.61284082,\n",
    " 0.82746801, 0.36660529, 0.89503505, 0.04707359, 0.97744959,\n",
    " 0.28597701, 0.96454964, 0.29067754, 0.74090134, 0.8245886, 0.96454964, 0.29067754, 0.74090134, 0.8245886,\n",
    "             0.96454964, 0.29067754, 0.74090134, 0.8245886, 0.96454964, 0.29067754]\n",
    "\n",
    "activations = neural_net_activation(toy_vector, actor_weights)\n",
    "\n",
    "activations[\"output\"]"
   ]
  },
  {
   "cell_type": "code",
   "execution_count": null,
   "id": "48e60580-5b64-488e-86bc-2aa98771edb1",
   "metadata": {},
   "outputs": [],
   "source": [
    "algo.compute_single_action(toy_vector, policy_id=\"prey\", full_fetch=True)"
   ]
  },
  {
   "cell_type": "code",
   "execution_count": null,
   "id": "cb7b19ef-8a23-4267-8ae9-eeab78442b91",
   "metadata": {},
   "outputs": [],
   "source": [
    "algo.compute_single_action(toy_vector, policy_id=\"prey\")"
   ]
  },
  {
   "cell_type": "code",
   "execution_count": null,
   "id": "b8103585-6e1a-434e-a5e3-4be011a62637",
   "metadata": {},
   "outputs": [],
   "source": [
    "%matplotlib inline\n",
    "import matplotlib.pyplot as plt\n",
    "import numpy as np\n",
    "from ipywidgets import interactive, FloatSlider, VBox, HBox\n",
    "from IPython.display import display\n",
    "\n",
    "def update_plot_observation(r, theta):\n",
    "    x = r * np.cos(theta)\n",
    "    y = r * np.sin(theta)\n",
    "\n",
    "    plt.figure(1)\n",
    "    plt.plot(x, y, 'ro') # Red point at the polar coordinates\n",
    "    plt.xlim(-10, 10)\n",
    "    plt.ylim(-10, 10)\n",
    "    plt.axhline(0, color='black',linewidth=0.5)\n",
    "    plt.axvline(0, color='black',linewidth=0.5)\n",
    "\n",
    "    plt.show()\n",
    "\n",
    "# Function to update the plot\n",
    "def update_plot_actions(r, theta):\n",
    "\n",
    "    toy_vector = np.zeros(27)\n",
    "    toy_vector[3] = 0 #prey\n",
    "    toy_vector[4] = r / env.grid_diagonal #distance\n",
    "    toy_vector[5] = theta / (2 * np.pi) #angle\n",
    "    toy_vector[6] = theta / np.pi #orientation\n",
    "    toy_vector[7] = 1 #prey type\n",
    "\n",
    "    policy = algo.get_policy(\"prey\")\n",
    "    fc_net_output = policy.model.encoder.actor_encoder.net.mlp(torch.Tensor(toy_vector))\n",
    "    mean1, std1, mean2, std2 = policy.model.pi.net(fc_net_output).tolist()\n",
    "    \n",
    "\n",
    "    # Generate points on the x axis\n",
    "    x = np.linspace(-10, 10, 1000)\n",
    "\n",
    "    # Calculate the y values for each bell curve\n",
    "    y1 = (1 / (np.sqrt(2 * np.pi) * std1)) * np.exp(-0.5 * ((x - mean1) / std1)**2)\n",
    "    y2 = (1 / (np.sqrt(2 * np.pi) * std2)) * np.exp(-0.5 * ((x - mean2) / std2)**2)\n",
    "\n",
    "    # Plotting with specific styling\n",
    "    plt.figure(1)  # Size of the plot\n",
    "    plt.plot(x, y1, color='blue', linestyle='-', linewidth=2, label=f'amplitude')\n",
    "    plt.plot(x, y2, color='red', linestyle='--', linewidth=2, label=f'orientation')\n",
    "    plt.grid(True)\n",
    "    plt.legend()\n",
    "    plt.show()\n",
    "    \n",
    "# Interactive sliders for radius and angle\n",
    "radius_slider = FloatSlider(min=0, max=10, step=0.1, value=5, description='Radius (r)', orientation='vertical')\n",
    "theta_slider = FloatSlider(min=-np.pi, max=np.pi, step=0.1, value=np.pi/4, description='Angle (θ)', orientation='vertical')\n",
    "\n",
    "# Create VBox for sliders\n",
    "slider_box = HBox([radius_slider, theta_slider])\n",
    "\n",
    "# Create the interactive plot\n",
    "interactive_plot1 = interactive(update_plot_observation, r=radius_slider, theta=theta_slider)\n",
    "interactive_plot2 = interactive(update_plot_actions, r=radius_slider, theta=theta_slider)\n",
    "\n",
    "# Extract the output and set the height\n",
    "output1 = interactive_plot1.children[-1]\n",
    "output2 = interactive_plot2.children[-1]\n",
    "\n",
    "# Display using HBox\n",
    "display(HBox([slider_box, output1, output2]))"
   ]
  },
  {
   "cell_type": "code",
   "execution_count": null,
   "id": "3a78f2e9-a06e-4051-a071-ac272e1005c7",
   "metadata": {},
   "outputs": [],
   "source": []
  },
  {
   "cell_type": "code",
   "execution_count": null,
   "id": "2a005bc7-7486-4ef3-b594-6b96b137dc1b",
   "metadata": {},
   "outputs": [],
   "source": [
    "\n"
   ]
  }
 ],
 "metadata": {
  "kernelspec": {
   "display_name": "collective_env",
   "language": "python",
   "name": "collective_env"
  },
  "language_info": {
   "codemirror_mode": {
    "name": "ipython",
    "version": 3
   },
   "file_extension": ".py",
   "mimetype": "text/x-python",
   "name": "python",
   "nbconvert_exporter": "python",
   "pygments_lexer": "ipython3",
   "version": "3.11.5"
  }
 },
 "nbformat": 4,
 "nbformat_minor": 5
}
