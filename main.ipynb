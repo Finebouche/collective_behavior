{
 "cells": [
  {
   "cell_type": "code",
   "execution_count": null,
   "id": "432aa296-67ea-4105-b2f3-856d7bc76da7",
   "metadata": {
    "execution": {
     "iopub.execute_input": "2023-08-01T14:55:10.522150Z",
     "iopub.status.busy": "2023-08-01T14:55:10.521341Z",
     "iopub.status.idle": "2023-08-01T14:55:30.747197Z",
     "shell.execute_reply": "2023-08-01T14:55:30.745624Z",
     "shell.execute_reply.started": "2023-08-01T14:55:10.522111Z"
    },
    "is_executing": true
   },
   "outputs": [],
   "source": [
    "print(\"Hello World\")"
   ]
  },
  {
   "cell_type": "code",
   "execution_count": 2,
   "id": "58c4fdf4-81b0-46c6-acdf-7ec3d5c8f60e",
   "metadata": {
    "ExecuteTime": {
     "end_time": "2023-08-02T14:49:49.315807796Z",
     "start_time": "2023-08-02T14:49:49.286714329Z"
    }
   },
   "outputs": [],
   "source": []
  },
  {
   "cell_type": "markdown",
   "source": [],
   "metadata": {
    "collapsed": false
   },
   "id": "570b5eaf04621b23"
  },
  {
   "cell_type": "code",
   "execution_count": null,
   "outputs": [],
   "source": [
    "# Assuming your CustomEnvironment has been updated according to the previous message\n",
    "# import CustomEnvironment from your custom_env file\n",
    "from custom_env import CustomEnvironment\n",
    "\n",
    "# initialize the environment\n",
    "env = CustomEnvironment()\n",
    "\n",
    "# reset the environment\n",
    "obs = env.reset()\n",
    "\n",
    "# the main loop\n",
    "while True:\n",
    "    # iterate over each agent\n",
    "    for agent in env.agent_iter():\n",
    "        # get the observation, reward, done, and info for the current agent\n",
    "        observation, reward, done, info = env.last()\n",
    "\n",
    "        # choose an action for the agent\n",
    "        if done:\n",
    "            action = None\n",
    "        else:\n",
    "            action = env.action_space.sample()  # replace this with your policy\n",
    "\n",
    "        # perform the action in the environment\n",
    "        env.step(action)\n",
    "\n",
    "        # if the game is over, break the loop\n",
    "        if done:\n",
    "            break\n",
    "env.close()"
   ],
   "metadata": {
    "collapsed": false
   },
   "id": "1da3c4066fca71f9"
  }
 ],
 "metadata": {
  "kernelspec": {
   "name": "collective2",
   "language": "python",
   "display_name": "collecrive behavior"
  },
  "language_info": {
   "codemirror_mode": {
    "name": "ipython",
    "version": 3
   },
   "file_extension": ".py",
   "mimetype": "text/x-python",
   "name": "python",
   "nbconvert_exporter": "python",
   "pygments_lexer": "ipython3",
   "version": "3.8.17"
  }
 },
 "nbformat": 4,
 "nbformat_minor": 5
}
