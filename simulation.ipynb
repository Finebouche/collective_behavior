{
 "cells": [
  {
   "cell_type": "markdown",
   "id": "615b7cc4-c1da-49fb-85a5-29eee064dd0d",
   "metadata": {},
   "source": [
    "# Some preliminary checks"
   ]
  },
  {
   "cell_type": "code",
   "execution_count": 1,
   "id": "14976ee1-cfb2-4052-a40b-0f316a54d317",
   "metadata": {
    "execution": {
     "iopub.execute_input": "2024-08-31T14:51:17.598249Z",
     "iopub.status.busy": "2024-08-31T14:51:17.597950Z",
     "iopub.status.idle": "2024-08-31T14:51:19.317834Z",
     "shell.execute_reply": "2024-08-31T14:51:19.317494Z",
     "shell.execute_reply.started": "2024-08-31T14:51:17.598225Z"
    },
    "is_executing": true,
    "tags": []
   },
   "outputs": [
    {
     "name": "stdout",
     "output_type": "stream",
     "text": [
      "Ray version : 2.35.0\n",
      "PyTorch Version: 2.4.0\n",
      "CUDA Available: False\n",
      "MPS Available: True\n"
     ]
    },
    {
     "data": {
      "text/plain": [
       "['cudagraphs', 'inductor', 'onnxrt', 'openxla', 'tvm']"
      ]
     },
     "execution_count": 1,
     "metadata": {},
     "output_type": "execute_result"
    }
   ],
   "source": [
    "import torch\n",
    "import os\n",
    "\n",
    "os.environ[\"RAY_DEDUP_LOGS\"] = \"0\"\n",
    "\n",
    "import ray \n",
    "print(\"Ray version :\", ray.__version__)\n",
    "\n",
    "print(\"PyTorch Version:\", torch.__version__)\n",
    "print(\"CUDA Available:\", torch.cuda.is_available())\n",
    "\n",
    "print(\"MPS Available:\", torch.backends.mps.is_available())\n",
    "\n",
    "torch._dynamo.list_backends()"
   ]
  },
  {
   "cell_type": "markdown",
   "id": "cc6e711d-75a9-4f97-ac7f-092552034613",
   "metadata": {},
   "source": [
    "### Important : Number of CPUs and GPUs available"
   ]
  },
  {
   "cell_type": "code",
   "execution_count": 2,
   "id": "9367a277-f21e-4ccb-9fc1-c5c1c1dd292b",
   "metadata": {
    "execution": {
     "iopub.execute_input": "2024-08-31T14:51:19.318638Z",
     "iopub.status.busy": "2024-08-31T14:51:19.318431Z",
     "iopub.status.idle": "2024-08-31T14:51:19.321245Z",
     "shell.execute_reply": "2024-08-31T14:51:19.320797Z",
     "shell.execute_reply.started": "2024-08-31T14:51:19.318627Z"
    },
    "tags": []
   },
   "outputs": [
    {
     "name": "stdout",
     "output_type": "stream",
     "text": [
      "Number of CPUs:  12\n"
     ]
    }
   ],
   "source": [
    "import psutil\n",
    "\n",
    "# print number of gpus / CPUs\n",
    "print(\"Number of CPUs: \", psutil.cpu_count())\n",
    "\n",
    "num_cpus = 12\n",
    "num_gpus = 0\n",
    "num_learner = 1\n",
    "\n",
    "assert num_cpus <= psutil.cpu_count()"
   ]
  },
  {
   "cell_type": "markdown",
   "id": "d421e6f2-e64c-4f7c-8ef2-cd969f9888fe",
   "metadata": {},
   "source": [
    "# Environement and algorithm configuration\n",
    "\n",
    "Some of the commented lines are preparation work to use a futur feature of RLLib\n",
    "\n",
    "Note: In multi-agent environments, `rollout_fragment_lenght` sets the batch size based on (across-agents) environment steps, not the steps of individual agents, which can result in unexpectedly large batches.\n"
   ]
  },
  {
   "cell_type": "code",
   "execution_count": 3,
   "id": "82dfc156-a283-4a91-a2e5-6e97568ea596",
   "metadata": {
    "execution": {
     "iopub.execute_input": "2024-08-31T14:51:19.322134Z",
     "iopub.status.busy": "2024-08-31T14:51:19.321937Z",
     "iopub.status.idle": "2024-08-31T14:51:23.869061Z",
     "shell.execute_reply": "2024-08-31T14:51:23.868633Z",
     "shell.execute_reply.started": "2024-08-31T14:51:19.322124Z"
    },
    "tags": []
   },
   "outputs": [
    {
     "name": "stderr",
     "output_type": "stream",
     "text": [
      "/Users/tanguy/miniforge3/envs/collective_env/lib/python3.11/site-packages/gymnasium/spaces/box.py:130: UserWarning: \u001b[33mWARN: Box bound precision lowered by casting to float32\u001b[0m\n",
      "  gym.logger.warn(f\"Box bound precision lowered by casting to {self.dtype}\")\n",
      "/Users/tanguy/miniforge3/envs/collective_env/lib/python3.11/site-packages/gymnasium/utils/passive_env_checker.py:164: UserWarning: \u001b[33mWARN: The obs returned by the `reset()` method was expecting numpy array dtype to be float32, actual type: float64\u001b[0m\n",
      "  logger.warn(\n",
      "/Users/tanguy/miniforge3/envs/collective_env/lib/python3.11/site-packages/gymnasium/utils/passive_env_checker.py:188: UserWarning: \u001b[33mWARN: The obs returned by the `reset()` method is not within the observation space.\u001b[0m\n",
      "  logger.warn(f\"{pre} is not within the observation space.\")\n"
     ]
    }
   ],
   "source": [
    "from ray.rllib.policy.policy import PolicySpec\n",
    "#from ray.rllib.core.rl_module.rl_module import SingleAgentRLModuleSpec\n",
    "#from ray.rllib.core.rl_module.marl_module import MultiAgentRLModuleSpec\n",
    "\n",
    "from ray.tune.registry import get_trainable_cls\n",
    "\n",
    "from particle_2d_env import Particle2dEnvironment\n",
    "from particle_2d_env import MetricsCallbacks, RenderingCallbacks\n",
    "from config import run_config\n",
    "\n",
    "ALGO = \"PPO\"        \n",
    "FRAMEWORK= \"torch\" # \"tf2\" or \"torch\"\n",
    "env = Particle2dEnvironment(run_config[\"env\"])\n",
    "\n",
    "config = (\n",
    "    get_trainable_cls(ALGO).get_default_config()\n",
    "    .environment(Particle2dEnvironment, env_config=run_config[\"env\"])\n",
    "    .framework(FRAMEWORK,)\n",
    "    .api_stack(\n",
    "        enable_rl_module_and_learner=True,\n",
    "        enable_env_runner_and_connector_v2=False,\n",
    "    )\n",
    "    .callbacks(MetricsCallbacks)\n",
    "    .callbacks(RenderingCallbacks)\n",
    "    # Specify the learner's hyperparameters.\n",
    "    .training(\n",
    "        num_sgd_iter=5,          \n",
    "        sgd_minibatch_size=512,             # the batch size (only for PPO)\n",
    "        #minibatch_size = 256,                # the batch size (only for IMPALA)\n",
    "        train_batch_size=524288,             # the number of step collected\n",
    "        model={\n",
    "            \"fcnet_hiddens\": [128, 128, 128], \n",
    "            \"use_attention\": True,\n",
    "            #\"use_lstm\": False,\n",
    "            #\"max_seq_len\": 5,\n",
    "            #\"lstm_cell_size\": 16,\n",
    "        },\n",
    "        #lr=tune.grid_search([0.01, 0.001, 0.0001])\n",
    "    )\n",
    "    .multi_agent(\n",
    "        policies= {\n",
    "            \"prey\": PolicySpec(\n",
    "                policy_class=None,  # infer automatically from Algorithm\n",
    "                observation_space=env.observation_space[0],  # if None infer automatically from env\n",
    "                action_space=env.action_space[0],  # if None infer automatically from env\n",
    "                config={\"gamma\": 0.85},  # use main config plus <- this override here\n",
    "            ),\n",
    "            \"predator\": PolicySpec(\n",
    "                policy_class=None,\n",
    "                observation_space=env.observation_space[0],\n",
    "                action_space=env.action_space[0],\n",
    "                config={\"gamma\": 0.85},\n",
    "            ),\n",
    "        },\n",
    "        policy_mapping_fn = lambda id, *arg, **karg: \"prey\" if env.agents[id].agent_type == 0 else \"predator\",\n",
    "        policies_to_train=[\"prey\", \"predator\"],\n",
    "        count_steps_by=\"agent_steps\",\n",
    "    )\n",
    "    .env_runners(\n",
    "        rollout_fragment_length=\"auto\", #\"auto\" for PPO explained here : https://docs.ray.io/en/latest/rllib/rllib-sample-collection.html\n",
    "        batch_mode= 'truncate_episodes',\n",
    "        num_env_runners=num_cpus-num_learner*num_gpus-1, # need 2 for IMPALA, 1 for PPO\n",
    "        num_envs_per_env_runner=1,\n",
    "    )\n",
    "    .checkpointing(export_native_model_files=True)\n",
    ")\n"
   ]
  },
  {
   "cell_type": "markdown",
   "id": "c4dd95c1-c2d5-439c-9478-cf1f15c10244",
   "metadata": {},
   "source": [
    "# Training"
   ]
  },
  {
   "cell_type": "code",
   "execution_count": 4,
   "id": "d3cfa99f-260e-4407-814c-b2f6d715797e",
   "metadata": {
    "execution": {
     "iopub.execute_input": "2024-08-31T14:51:23.870138Z",
     "iopub.status.busy": "2024-08-31T14:51:23.869782Z",
     "iopub.status.idle": "2024-08-31T14:51:23.873506Z",
     "shell.execute_reply": "2024-08-31T14:51:23.873222Z",
     "shell.execute_reply.started": "2024-08-31T14:51:23.870122Z"
    },
    "tags": []
   },
   "outputs": [],
   "source": [
    "from ray.rllib.policy.policy import Policy\n",
    "from ray.rllib.algorithms.callbacks import DefaultCallbacks\n",
    "\n",
    "path_to_checkpoint = None #os.getcwd() + \"/ray_results\" + \"PPO_2024-05-18_00-08-19/PPO_Particle2dEnvironment_bb60c_00000_0_2024-05-18_00-08-19/checkpoint_000001\"\n",
    "\n",
    "def restore_weights(path, policy_type):\n",
    "    checkpoint_path = os.path.join(path, f\"policies/{policy_type}\")\n",
    "    restored_policy = Policy.from_checkpoint(checkpoint_path)\n",
    "    return restored_policy.get_weights()\n",
    "\n",
    "if path_to_checkpoint is not None: \n",
    "    class RestoreWeightsCallback(DefaultCallbacks):\n",
    "        def on_algorithm_init(self, *, algorithm: \"Algorithm\", **kwargs) -> None:\n",
    "            algorithm.set_weights({\"predator\": restore_weights(path_to_checkpoint, \"predator\")})\n",
    "            algorithm.set_weights({\"prey\": restore_weights(path_to_checkpoint, \"prey\")})\n",
    "\n",
    "    config.callbacks(RestoreWeightsCallback)\n",
    "\n"
   ]
  },
  {
   "cell_type": "markdown",
   "id": "c5385022-05b2-42ae-a406-87b46736f257",
   "metadata": {},
   "source": [
    "## Launch training"
   ]
  },
  {
   "cell_type": "code",
   "execution_count": null,
   "id": "056eb565-f91d-4c3c-bced-93a56886dca0",
   "metadata": {
    "execution": {
     "iopub.execute_input": "2024-08-31T14:51:23.874144Z",
     "iopub.status.busy": "2024-08-31T14:51:23.874036Z"
    },
    "is_executing": true,
    "tags": []
   },
   "outputs": [
    {
     "name": "stderr",
     "output_type": "stream",
     "text": [
      "2024-08-31 16:51:24,686\tINFO worker.py:1783 -- Started a local Ray instance.\n",
      "2024-08-31 16:51:25,276\tINFO tune.py:616 -- [output] This uses the legacy output and progress reporter, as Jupyter notebooks are not supported by the new engine, yet. For more information, please see https://github.com/ray-project/ray/issues/36949\n"
     ]
    },
    {
     "data": {
      "text/html": [
       "<div class=\"tuneStatus\">\n",
       "  <div style=\"display: flex;flex-direction: row\">\n",
       "    <div style=\"display: flex;flex-direction: column;\">\n",
       "      <h3>Tune Status</h3>\n",
       "      <table>\n",
       "<tbody>\n",
       "<tr><td>Current time:</td><td>2024-08-31 17:07:58</td></tr>\n",
       "<tr><td>Running for: </td><td>00:16:33.12        </td></tr>\n",
       "<tr><td>Memory:      </td><td>36.7/64.0 GiB      </td></tr>\n",
       "</tbody>\n",
       "</table>\n",
       "    </div>\n",
       "    <div class=\"vDivider\"></div>\n",
       "    <div class=\"systemInfo\">\n",
       "      <h3>System Info</h3>\n",
       "      Using FIFO scheduling algorithm.<br>Logical resource usage: 12.0/12 CPUs, 0/0 GPUs\n",
       "    </div>\n",
       "    \n",
       "  </div>\n",
       "  <div class=\"hDivider\"></div>\n",
       "  <div class=\"trialStatus\">\n",
       "    <h3>Trial Status</h3>\n",
       "    <table>\n",
       "<thead>\n",
       "<tr><th>Trial name                           </th><th>status  </th><th>loc            </th><th style=\"text-align: right;\">  iter</th><th style=\"text-align: right;\">  total time (s)</th><th style=\"text-align: right;\">     ts</th><th style=\"text-align: right;\">  num_healthy_workers</th><th style=\"text-align: right;\">  num_in_flight_async_\n",
       "sample_reqs</th><th style=\"text-align: right;\">  num_remote_worker_re\n",
       "starts</th></tr>\n",
       "</thead>\n",
       "<tbody>\n",
       "<tr><td>PPO_Particle2dEnvironment_7ee3a_00000</td><td>RUNNING </td><td>127.0.0.1:19300</td><td style=\"text-align: right;\">     8</td><td style=\"text-align: right;\">         822.543</td><td style=\"text-align: right;\">4195691</td><td style=\"text-align: right;\">                   11</td><td style=\"text-align: right;\">0</td><td style=\"text-align: right;\">0</td></tr>\n",
       "</tbody>\n",
       "</table>\n",
       "  </div>\n",
       "</div>\n",
       "<style>\n",
       ".tuneStatus {\n",
       "  color: var(--jp-ui-font-color1);\n",
       "}\n",
       ".tuneStatus .systemInfo {\n",
       "  display: flex;\n",
       "  flex-direction: column;\n",
       "}\n",
       ".tuneStatus td {\n",
       "  white-space: nowrap;\n",
       "}\n",
       ".tuneStatus .trialStatus {\n",
       "  display: flex;\n",
       "  flex-direction: column;\n",
       "}\n",
       ".tuneStatus h3 {\n",
       "  font-weight: bold;\n",
       "}\n",
       ".tuneStatus .hDivider {\n",
       "  border-bottom-width: var(--jp-border-width);\n",
       "  border-bottom-color: var(--jp-border-color0);\n",
       "  border-bottom-style: solid;\n",
       "}\n",
       ".tuneStatus .vDivider {\n",
       "  border-left-width: var(--jp-border-width);\n",
       "  border-left-color: var(--jp-border-color0);\n",
       "  border-left-style: solid;\n",
       "  margin: 0.5em 1em 0.5em 1em;\n",
       "}\n",
       "</style>\n"
      ],
      "text/plain": [
       "<IPython.core.display.HTML object>"
      ]
     },
     "metadata": {},
     "output_type": "display_data"
    },
    {
     "name": "stderr",
     "output_type": "stream",
     "text": [
      "\u001b[36m(RolloutWorker pid=19316)\u001b[0m /Users/tanguy/miniforge3/envs/collective_env/lib/python3.11/site-packages/gymnasium/spaces/box.py:130: UserWarning: \u001b[33mWARN: Box bound precision lowered by casting to float32\u001b[0m\n",
      "\u001b[36m(RolloutWorker pid=19316)\u001b[0m   gym.logger.warn(f\"Box bound precision lowered by casting to {self.dtype}\")\n",
      "\u001b[36m(RolloutWorker pid=19318)\u001b[0m /Users/tanguy/miniforge3/envs/collective_env/lib/python3.11/site-packages/gymnasium/spaces/box.py:130: UserWarning: \u001b[33mWARN: Box bound precision lowered by casting to float32\u001b[0m\n",
      "\u001b[36m(RolloutWorker pid=19318)\u001b[0m   gym.logger.warn(f\"Box bound precision lowered by casting to {self.dtype}\")\n",
      "\u001b[36m(RolloutWorker pid=19317)\u001b[0m /Users/tanguy/miniforge3/envs/collective_env/lib/python3.11/site-packages/gymnasium/spaces/box.py:130: UserWarning: \u001b[33mWARN: Box bound precision lowered by casting to float32\u001b[0m\n",
      "\u001b[36m(RolloutWorker pid=19317)\u001b[0m   gym.logger.warn(f\"Box bound precision lowered by casting to {self.dtype}\")\n",
      "\u001b[36m(RolloutWorker pid=19320)\u001b[0m /Users/tanguy/miniforge3/envs/collective_env/lib/python3.11/site-packages/gymnasium/spaces/box.py:130: UserWarning: \u001b[33mWARN: Box bound precision lowered by casting to float32\u001b[0m\n",
      "\u001b[36m(RolloutWorker pid=19320)\u001b[0m   gym.logger.warn(f\"Box bound precision lowered by casting to {self.dtype}\")\n",
      "\u001b[36m(RolloutWorker pid=19319)\u001b[0m /Users/tanguy/miniforge3/envs/collective_env/lib/python3.11/site-packages/gymnasium/spaces/box.py:130: UserWarning: \u001b[33mWARN: Box bound precision lowered by casting to float32\u001b[0m\n",
      "\u001b[36m(RolloutWorker pid=19319)\u001b[0m   gym.logger.warn(f\"Box bound precision lowered by casting to {self.dtype}\")\n",
      "\u001b[36m(RolloutWorker pid=19325)\u001b[0m /Users/tanguy/miniforge3/envs/collective_env/lib/python3.11/site-packages/gymnasium/spaces/box.py:130: UserWarning: \u001b[33mWARN: Box bound precision lowered by casting to float32\u001b[0m\n",
      "\u001b[36m(RolloutWorker pid=19325)\u001b[0m   gym.logger.warn(f\"Box bound precision lowered by casting to {self.dtype}\")\n",
      "\u001b[36m(RolloutWorker pid=19321)\u001b[0m /Users/tanguy/miniforge3/envs/collective_env/lib/python3.11/site-packages/gymnasium/spaces/box.py:130: UserWarning: \u001b[33mWARN: Box bound precision lowered by casting to float32\u001b[0m\n",
      "\u001b[36m(RolloutWorker pid=19321)\u001b[0m   gym.logger.warn(f\"Box bound precision lowered by casting to {self.dtype}\")\n",
      "\u001b[36m(RolloutWorker pid=19323)\u001b[0m /Users/tanguy/miniforge3/envs/collective_env/lib/python3.11/site-packages/gymnasium/spaces/box.py:130: UserWarning: \u001b[33mWARN: Box bound precision lowered by casting to float32\u001b[0m\n",
      "\u001b[36m(RolloutWorker pid=19323)\u001b[0m   gym.logger.warn(f\"Box bound precision lowered by casting to {self.dtype}\")\n",
      "\u001b[36m(RolloutWorker pid=19322)\u001b[0m /Users/tanguy/miniforge3/envs/collective_env/lib/python3.11/site-packages/gymnasium/spaces/box.py:130: UserWarning: \u001b[33mWARN: Box bound precision lowered by casting to float32\u001b[0m\n",
      "\u001b[36m(RolloutWorker pid=19322)\u001b[0m   gym.logger.warn(f\"Box bound precision lowered by casting to {self.dtype}\")\n",
      "\u001b[36m(RolloutWorker pid=19324)\u001b[0m /Users/tanguy/miniforge3/envs/collective_env/lib/python3.11/site-packages/gymnasium/spaces/box.py:130: UserWarning: \u001b[33mWARN: Box bound precision lowered by casting to float32\u001b[0m\n",
      "\u001b[36m(RolloutWorker pid=19324)\u001b[0m   gym.logger.warn(f\"Box bound precision lowered by casting to {self.dtype}\")\n",
      "\u001b[36m(RolloutWorker pid=19326)\u001b[0m /Users/tanguy/miniforge3/envs/collective_env/lib/python3.11/site-packages/gymnasium/spaces/box.py:130: UserWarning: \u001b[33mWARN: Box bound precision lowered by casting to float32\u001b[0m\n",
      "\u001b[36m(RolloutWorker pid=19326)\u001b[0m   gym.logger.warn(f\"Box bound precision lowered by casting to {self.dtype}\")\n",
      "\u001b[36m(PPO pid=19300)\u001b[0m Install gputil for GPU system monitoring.\n",
      "\u001b[36m(_WandbLoggingActor pid=19352)\u001b[0m wandb: Currently logged in as: tanguy-cazalets (tcazalet_airo). Use `wandb login --relogin` to force relogin\n",
      "\u001b[36m(_WandbLoggingActor pid=19352)\u001b[0m wandb: - Waiting for wandb.init()...\n",
      "\u001b[36m(_WandbLoggingActor pid=19352)\u001b[0m wandb: \\ Waiting for wandb.init()...\n",
      "\u001b[36m(_WandbLoggingActor pid=19352)\u001b[0m wandb: wandb version 0.17.8 is available!  To upgrade, please run:\n",
      "\u001b[36m(_WandbLoggingActor pid=19352)\u001b[0m wandb:  $ pip install wandb --upgrade\n",
      "\u001b[36m(_WandbLoggingActor pid=19352)\u001b[0m wandb: Tracking run with wandb version 0.17.7\n",
      "\u001b[36m(_WandbLoggingActor pid=19352)\u001b[0m wandb: Run data is saved locally in /private/tmp/ray/session_2024-08-31_16-51-23_896119_19273/artifacts/2024-08-31_16-51-25/PPO_2024-08-31_16-51-25/driver_artifacts/PPO_Particle2dEnvironment_7ee3a_00000_0_2024-08-31_16-51-25/wandb/run-20240831_165148-7ee3a_00000\n",
      "\u001b[36m(_WandbLoggingActor pid=19352)\u001b[0m wandb: Run `wandb offline` to turn off syncing.\n",
      "\u001b[36m(_WandbLoggingActor pid=19352)\u001b[0m wandb: Syncing run PPO_Particle2dEnvironment_7ee3a_00000\n",
      "\u001b[36m(_WandbLoggingActor pid=19352)\u001b[0m wandb: ⭐️ View project at https://wandb.ai/tcazalet_airo/marl-rllib\n",
      "\u001b[36m(_WandbLoggingActor pid=19352)\u001b[0m wandb: 🚀 View run at https://wandb.ai/tcazalet_airo/marl-rllib/runs/7ee3a_00000\n"
     ]
    },
    {
     "data": {
      "text/html": [
       "<div class=\"trialProgress\">\n",
       "  <h3>Trial Progress</h3>\n",
       "  <table>\n",
       "<thead>\n",
       "<tr><th>Trial name                           </th><th style=\"text-align: right;\">  agent_timesteps_total</th><th>counters                                                                                                                       </th><th>custom_metrics  </th><th>date               </th><th>done  </th><th>env_runners                                                                                                                                                                                                                                                                                                                                                                                                                                                                                                                                                                                                                                                                                                                                                                                                                                                                                                                                                                                                                                                                                                                                                                                                                                                                                                                                                                                                                                                                                                                                                                                                                                                                                                                                                                                                                                                                                                                                                                                                                                                                                                                                                                                                                                                                                                                                                                                                                                                                                                                                                                                                                                                                                                                                                                                                                                                                                                                                                                                                                                                                                                                                                                                                                                                                                                                                                                                                                                                                                                                                                                                                                                                                                                                                                                                                                                                                                                                                                                                                                                                                                                                                                                                                                                                                                                                                                                                                                                                                                                                                                                                                                                                                                                                                                                                                                                                                                                                                                                                                                                                                                                                                                                                                                                                                                                                                                                                                                                                                                                                                                                                                                                                                                                                                                                                                                                                                                                                                                                                                                                                                                                                                                                                                                                                                                                                                                                                                                                                                                                                                                                                                                                                                                                                                                                                                                                                                                                                                                                                                                                                                                                                                                                                                                                                                                                                                                                                                                                                                                                                                                                                                                                                                                                                                                                                                                                                                                                                                                                                                                                                                                                                                                                                                                                                                                                                                                                                                                                                                                                                                                                                                                                                                                                                                                                                                                                                                                                                                                                                                                                                                                                                                                                                                                                                                                                                                                                                                                                                                                                                                                                                                                                                                                                                                                                                                                                                                                                                                                                                                                                                                                                                                                                                                                                                                                                                                                                                                                                                                                                                                                                                                                                                                                                                                                                                                                                                                                                                                                                                                                                                                                                                                                                                                                                                                                                                                                                                                                                                                                                                                                                                                                                                                                                                                                                                                                                                                                                                                                                                                                                                                                                                                                                                                                                                                                                                                                                                                                                                                                                                                                                                                                                                                                                                                                                                                                                                                                                                                                                                                                                                                                                                                                                                                                                                                                                                                                                                                                                                                                                                                                                                                                                                                                                                                                                                                                                                                                                                                                                                                                                                                                                                                                                                                                                                                                                                                                                                                                                                                                                                                                                                                                                                                                                                                                                                                                                                                                                                                                                                                                                                                                                                                                                                                                                                                                                                                                                                                                                                                                                                                                                                                                                                                                                                                                                                                                                                                                                                                                                                                                                                                                                                                                                                                                                                                                                                                                                                                                                                                                                                                                                                                                                                                                                                                                                                                                                                                                                                                                                                                                                                                                                                                                                                                                                                                                                                                                                                                                                                                                                                                                                                                                                                                                                                                                                                                                                                                                                                                                                                                                                                                                                                                                                                                                                                                                                                                                                                                                                                                                                                                                                                                                                                                                                                                                                                                                                                                                                                                                                                                                                                                                                                                                                                                                                                                                                                                                                                                                                                                                                                                                                                                                                                                                                                                                                                                                                                                                                                                                                                                                                                                                                                                                                                                                                                                                                                                                                                                                                                                                                                                                                                                                                                                                                                                                                                                                                                                                                                                                                                                                                                                                                                                                                                                                                                                                                                                                                                                                                                                                                                                                                                                                                                                                                                                                                                                                                                                                                                                                                                                                                                                                                                                                                                                                                                                                                                                                                                                                                                                                                                                                                                                                                                                                                                                                                                                                                                                                                                                                                                                                                                                                                                                                                                                                                                                                                                                                                                                                                                                                                                                                                                                                                                                                                                                                                                                                                                                                                                                                                                                                                                                                                                                                                                                                                                                                                                                                                                                                                                                                                                                                                                                                                                                                                                                                                                                                                                                                                                                                                                                                                                                                                                                                                                                                                                                                                                                                                                                                                                                                                                                                                                                                                                                                                                                                                                                                                                                                                                                                                                                                                                                                                                                                                                                                                                                                                                                                                                                                                                                                                                                                                                                                                                                                                                                                                                                                                                                                                                                                                                                                                                                                                                                                                                                                                                                                                                                                                                                                                                                                                                                                                                                                                                                                                                                                                                                                                                                                                                                                                                                                                                                                                                                                                                                                                                                                                                                                                                                                                                                                                                                                                                                                                                                                                                                                                                                                                                                                                                                                                                                                                                                                                                                                                                                                                                                                                                                                                                                                                                                                                                                                                                                                       </th><th>episode_media  </th><th>hostname                   </th><th>info                                                                                                                                                                                                                                                                                                                                                                                                                                                                                                                                                                                                                                                                                                                                                                                                                                                                                                                                                                                                                                                                                                                                                                                                                                                                                                                                                                </th><th style=\"text-align: right;\">  iterations_since_restore</th><th>node_ip  </th><th style=\"text-align: right;\">  num_agent_steps_sampled</th><th style=\"text-align: right;\">  num_agent_steps_sampled_lifetime</th><th style=\"text-align: right;\">  num_agent_steps_sampled_this_iter</th><th style=\"text-align: right;\">  num_agent_steps_sampled_throughput_per_sec</th><th style=\"text-align: right;\">  num_agent_steps_trained</th><th style=\"text-align: right;\">  num_agent_steps_trained_this_iter</th><th style=\"text-align: right;\">  num_agent_steps_trained_throughput_per_sec</th><th style=\"text-align: right;\">  num_env_steps_sampled</th><th style=\"text-align: right;\">  num_env_steps_sampled_lifetime</th><th style=\"text-align: right;\">  num_env_steps_trained</th><th style=\"text-align: right;\">  num_healthy_workers</th><th style=\"text-align: right;\">  num_in_flight_async_sample_reqs</th><th style=\"text-align: right;\">  num_remote_worker_restarts</th><th style=\"text-align: right;\">  num_steps_trained_this_iter</th><th>perf                                                                           </th><th style=\"text-align: right;\">  pid</th><th style=\"text-align: right;\">  time_since_restore</th><th style=\"text-align: right;\">  time_this_iter_s</th><th style=\"text-align: right;\">  time_total_s</th><th>timers                                                                                                                                                                      </th><th style=\"text-align: right;\">  timestamp</th><th style=\"text-align: right;\">  timesteps_total</th><th style=\"text-align: right;\">  training_iteration</th><th>trial_id   </th></tr>\n",
       "</thead>\n",
       "<tbody>\n",
       "<tr><td>PPO_Particle2dEnvironment_7ee3a_00000</td><td style=\"text-align: right;\">                4195691</td><td>{&#x27;num_env_steps_sampled&#x27;: 135066, &#x27;num_env_steps_trained&#x27;: 0, &#x27;num_agent_steps_sampled&#x27;: 4195691, &#x27;num_agent_steps_trained&#x27;: 0}</td><td>{}              </td><td>2024-08-31_17-07-03</td><td>False </td><td>{&#x27;episode_reward_max&#x27;: 0.0, &#x27;episode_reward_min&#x27;: -2.3199999999999945, &#x27;episode_reward_mean&#x27;: -0.4896999999999997, &#x27;episode_len_mean&#x27;: 700.0, &#x27;episode_media&#x27;: {&#x27;rendering&#x27;: [&lt;wandb.sdk.data_types.video.Video object at 0x3ef565310&gt;, &lt;wandb.sdk.data_types.video.Video object at 0x3ef586d90&gt;, &lt;wandb.sdk.data_types.video.Video object at 0x3ef586250&gt;, &lt;wandb.sdk.data_types.video.Video object at 0x3ef584690&gt;, &lt;wandb.sdk.data_types.video.Video object at 0x3ef585b50&gt;, &lt;wandb.sdk.data_types.video.Video object at 0x3ef587610&gt;, &lt;wandb.sdk.data_types.video.Video object at 0x3ef586a50&gt;, &lt;wandb.sdk.data_types.video.Video object at 0x3ef584310&gt;, &lt;wandb.sdk.data_types.video.Video object at 0x3ef5865d0&gt;, &lt;wandb.sdk.data_types.video.Video object at 0x3ef585450&gt;, &lt;wandb.sdk.data_types.video.Video object at 0x3ef5860d0&gt;, &lt;wandb.sdk.data_types.video.Video object at 0x3ef586c50&gt;, &lt;wandb.sdk.data_types.video.Video object at 0x3ef584c10&gt;, &lt;wandb.sdk.data_types.video.Video object at 0x3ef584c50&gt;, &lt;wandb.sdk.data_types.video.Video object at 0x3ef5842d0&gt;, &lt;wandb.sdk.data_types.video.Video object at 0x3ef586ad0&gt;, &lt;wandb.sdk.data_types.video.Video object at 0x3ef586a10&gt;, &lt;wandb.sdk.data_types.video.Video object at 0x3ef5847d0&gt;, &lt;wandb.sdk.data_types.video.Video object at 0x3ef584810&gt;, &lt;wandb.sdk.data_types.video.Video object at 0x3ef584fd0&gt;, &lt;wandb.sdk.data_types.video.Video object at 0x3ef585090&gt;, &lt;wandb.sdk.data_types.video.Video object at 0x3ef584f10&gt;, &lt;wandb.sdk.data_types.video.Video object at 0x3ef585ad0&gt;, &lt;wandb.sdk.data_types.video.Video object at 0x3ef5859d0&gt;, &lt;wandb.sdk.data_types.video.Video object at 0x3ef5840d0&gt;, &lt;wandb.sdk.data_types.video.Video object at 0x3ef584190&gt;, &lt;wandb.sdk.data_types.video.Video object at 0x3ef587290&gt;, &lt;wandb.sdk.data_types.video.Video object at 0x3ef587f10&gt;, &lt;wandb.sdk.data_types.video.Video object at 0x3ef587b90&gt;, &lt;wandb.sdk.data_types.video.Video object at 0x3ef587550&gt;, &lt;wandb.sdk.data_types.video.Video object at 0x3ef3c4a50&gt;, &lt;wandb.sdk.data_types.video.Video object at 0x3ef3c54d0&gt;, &lt;wandb.sdk.data_types.video.Video object at 0x3ef3c5910&gt;, &lt;wandb.sdk.data_types.video.Video object at 0x3ef3c4590&gt;, &lt;wandb.sdk.data_types.video.Video object at 0x3ef3c4750&gt;, &lt;wandb.sdk.data_types.video.Video object at 0x3ef3c5550&gt;, &lt;wandb.sdk.data_types.video.Video object at 0x3ef3c4810&gt;, &lt;wandb.sdk.data_types.video.Video object at 0x3ef3c7050&gt;, &lt;wandb.sdk.data_types.video.Video object at 0x3ef3bfed0&gt;, &lt;wandb.sdk.data_types.video.Video object at 0x3ef3bd850&gt;, &lt;wandb.sdk.data_types.video.Video object at 0x3ef3be6d0&gt;, &lt;wandb.sdk.data_types.video.Video object at 0x3ef3bcc50&gt;, &lt;wandb.sdk.data_types.video.Video object at 0x3ef3be690&gt;, &lt;wandb.sdk.data_types.video.Video object at 0x3ef3bf550&gt;, &lt;wandb.sdk.data_types.video.Video object at 0x3ef3bf450&gt;, &lt;wandb.sdk.data_types.video.Video object at 0x3ef3bded0&gt;, &lt;wandb.sdk.data_types.video.Video object at 0x3ef3bd250&gt;, &lt;wandb.sdk.data_types.video.Video object at 0x3ef3bffd0&gt;, &lt;wandb.sdk.data_types.video.Video object at 0x3ef3be0d0&gt;, &lt;wandb.sdk.data_types.video.Video object at 0x3ef3bd010&gt;, &lt;wandb.sdk.data_types.video.Video object at 0x3ef3bfc50&gt;, &lt;wandb.sdk.data_types.video.Video object at 0x3ef3bd710&gt;, &lt;wandb.sdk.data_types.video.Video object at 0x3ef3be490&gt;, &lt;wandb.sdk.data_types.video.Video object at 0x3ef3be250&gt;, &lt;wandb.sdk.data_types.video.Video object at 0x3ef3bd110&gt;, &lt;wandb.sdk.data_types.video.Video object at 0x3ef3bda50&gt;, &lt;wandb.sdk.data_types.video.Video object at 0x3ef3bea90&gt;, &lt;wandb.sdk.data_types.video.Video object at 0x3ef3be390&gt;, &lt;wandb.sdk.data_types.video.Video object at 0x3ef3bea10&gt;, &lt;wandb.sdk.data_types.video.Video object at 0x3ef3bcfd0&gt;, &lt;wandb.sdk.data_types.video.Video object at 0x3ef3bcf10&gt;, &lt;wandb.sdk.data_types.video.Video object at 0x3ef3bcd90&gt;, &lt;wandb.sdk.data_types.video.Video object at 0x3ef57b650&gt;, &lt;wandb.sdk.data_types.video.Video object at 0x3ef578890&gt;, &lt;wandb.sdk.data_types.video.Video object at 0x3ef57af90&gt;, &lt;wandb.sdk.data_types.video.Video object at 0x3ef57b3d0&gt;, &lt;wandb.sdk.data_types.video.Video object at 0x3ef57b990&gt;, &lt;wandb.sdk.data_types.video.Video object at 0x3ef57ab90&gt;, &lt;wandb.sdk.data_types.video.Video object at 0x3ef58ded0&gt;, &lt;wandb.sdk.data_types.video.Video object at 0x3ef58d6d0&gt;, &lt;wandb.sdk.data_types.video.Video object at 0x3ef58c650&gt;, &lt;wandb.sdk.data_types.video.Video object at 0x3ef58c190&gt;, &lt;wandb.sdk.data_types.video.Video object at 0x3ef58e3d0&gt;, &lt;wandb.sdk.data_types.video.Video object at 0x3ef58da10&gt;, &lt;wandb.sdk.data_types.video.Video object at 0x3ef58db10&gt;, &lt;wandb.sdk.data_types.video.Video object at 0x3ef58f510&gt;, &lt;wandb.sdk.data_types.video.Video object at 0x3ef58f210&gt;, &lt;wandb.sdk.data_types.video.Video object at 0x3ef58e990&gt;, &lt;wandb.sdk.data_types.video.Video object at 0x3ef58fd10&gt;, &lt;wandb.sdk.data_types.video.Video object at 0x3ef58f450&gt;, &lt;wandb.sdk.data_types.video.Video object at 0x3ef58e150&gt;, &lt;wandb.sdk.data_types.video.Video object at 0x3ef58f990&gt;, &lt;wandb.sdk.data_types.video.Video object at 0x3ef58fdd0&gt;, &lt;wandb.sdk.data_types.video.Video object at 0x3ef58ff90&gt;, &lt;wandb.sdk.data_types.video.Video object at 0x3ef58ca10&gt;, &lt;wandb.sdk.data_types.video.Video object at 0x3ef58fe50&gt;, &lt;wandb.sdk.data_types.video.Video object at 0x3ef58fb50&gt;, &lt;wandb.sdk.data_types.video.Video object at 0x3ef58d090&gt;, &lt;wandb.sdk.data_types.video.Video object at 0x3ef58d710&gt;, &lt;wandb.sdk.data_types.video.Video object at 0x3ef58e250&gt;, &lt;wandb.sdk.data_types.video.Video object at 0x3ef58f110&gt;, &lt;wandb.sdk.data_types.video.Video object at 0x3ef556050&gt;, &lt;wandb.sdk.data_types.video.Video object at 0x3ef556c50&gt;, &lt;wandb.sdk.data_types.video.Video object at 0x3ef555290&gt;, &lt;wandb.sdk.data_types.video.Video object at 0x3ef554d10&gt;, &lt;wandb.sdk.data_types.video.Video object at 0x3ef557510&gt;, &lt;wandb.sdk.data_types.video.Video object at 0x3ef557ed0&gt;, &lt;wandb.sdk.data_types.video.Video object at 0x3ef556550&gt;, &lt;wandb.sdk.data_types.video.Video object at 0x3ef556e50&gt;, &lt;wandb.sdk.data_types.video.Video object at 0x3ef556e10&gt;]}, &#x27;episodes_timesteps_total&#x27;: 70000, &#x27;policy_reward_min&#x27;: {&#x27;prey&#x27;: -1.17, &#x27;predator&#x27;: -2.0799999999999996}, &#x27;policy_reward_max&#x27;: {&#x27;prey&#x27;: 0.0, &#x27;predator&#x27;: 5.0}, &#x27;policy_reward_mean&#x27;: {&#x27;prey&#x27;: -0.08106666666666668, &#x27;predator&#x27;: 0.97115}, &#x27;custom_metrics&#x27;: {}, &#x27;hist_stats&#x27;: {&#x27;episode_reward&#x27;: [-0.4399999999999995, -0.20000000000000018, -0.1499999999999968, -0.27000000000000024, -0.44000000000000017, -0.8999999999999977, -1.2000000000000006, -0.4400000000000003, -0.6400000000000006, -0.5300000000000004, 0.0, -0.9400000000000006, -0.5700000000000003, -1.0200000000000005, -0.09999999999999964, -0.5099999999999985, -0.16000000000000014, -1.3599999999999905, -0.4300000000000002, -0.5000000000000004, -1.390000000000001, -0.7800000000000007, -0.5400000000000005, -1.0099999999999953, -0.050000000000000044, -0.3100000000000003, -0.6900000000000006, -0.06000000000000005, -0.22999999999999998, -0.09000000000000008, -0.3199999999999976, -0.3500000000000001, 0.0, -0.09999999999999999, -0.6700000000000004, -0.3299999999999992, 0.0, -0.3900000000000001, -0.09999999999999998, -0.5400000000000005, -2.3199999999999945, -0.09000000000000008, -0.3899999999999948, -0.5700000000000005, -0.9500000000000006, -0.33999999999999986, -0.19999999999999574, -0.5200000000000002, -0.02, -0.02, -0.4300000000000004, -0.8200000000000005, -0.16999999999999993, -0.010000000000000009, -0.38000000000000017, -0.3400000000000001, -0.7199999999999944, -0.31000000000000005, -0.10000000000000009, -0.8700000000000006, -0.5600000000000005, -0.7800000000000007, -0.5800000000000003, -1.0700000000000007, -1.0400000000000007, -0.3300000000000001, -0.08000000000000007, -0.54, -1.0099999999999993, -0.9700000000000006, -0.5000000000000004, -0.1299999999999999, -0.04999999999999982, -0.4600000000000004, -0.1200000000000001, -0.38000000000000034, -1.0100000000000007, -0.29000000000000015, -0.27000000000000024, -0.17999999999999616, -0.5800000000000005, -0.07000000000000006, -0.7900000000000007, -0.5100000000000002, -0.3900000000000001, -0.7900000000000005, -0.06000000000000005, -1.260000000000001, -0.7400000000000002, -0.6899999999999977, -0.6399999999999979, -0.1200000000000001, -0.18000000000000016, -0.29999999999999627, -0.7500000000000004, -0.7200000000000005, -0.20000000000000004, -0.17999999999999794, -0.9100000000000006, -0.42000000000000015], &#x27;episode_lengths&#x27;: [700, 700, 700, 700, 700, 700, 700, 700, 700, 700, 700, 700, 700, 700, 700, 700, 700, 700, 700, 700, 700, 700, 700, 700, 700, 700, 700, 700, 700, 700, 700, 700, 700, 700, 700, 700, 700, 700, 700, 700, 700, 700, 700, 700, 700, 700, 700, 700, 700, 700, 700, 700, 700, 700, 700, 700, 700, 700, 700, 700, 700, 700, 700, 700, 700, 700, 700, 700, 700, 700, 700, 700, 700, 700, 700, 700, 700, 700, 700, 700, 700, 700, 700, 700, 700, 700, 700, 700, 700, 700, 700, 700, 700, 700, 700, 700, 700, 700, 700, 700], &#x27;policy_prey_reward&#x27;: [-1.0, 0.0, 0.0, -1.0, 0.0, -0.16, 0.0, 0.0, 0.0, 0.0, 0.0, 0.0, 0.0, 0.0, 0.0, 0.0, 0.0, 0.0, 0.0, 0.0, 0.0, 0.0, 0.0, 0.0, 0.0, -1.0, 0.0, 0.0, 0.0, -1.0, 0.0, 0.0, 0.0, 0.0, 0.0, 0.0, 0.0, 0.0, 0.0, -1.0, 0.0, -1.0, -1.0, 0.0, 0.0, 0.0, 0.0, 0.0, 0.0, 0.0, 0.0, 0.0, -1.0, -0.17, 0.0, -0.03, 0.0, 0.0, 0.0, 0.0, 0.0, -1.0, 0.0, 0.0, -1.0, 0.0, -1.0, 0.0, 0.0, 0.0, 0.0, 0.0, 0.0, -1.0, 0.0, 0.0, -1.0, 0.0, 0.0, -0.15, -1.0, 0.0, 0.0, 0.0, 0.0, 0.0, 0.0, 0.0, 0.0, 0.0, 0.0, 0.0, 0.0, -1.0, 0.0, 0.0, 0.0, 0.0, 0.0, 0.0, 0.0, 0.0, -1.0, 0.0, 0.0, 0.0, 0.0, 0.0, 0.0, 0.0, -0.23000000000000007, 0.0, 0.0, 0.0, 0.0, 0.0, 0.0, 0.0, 0.0, 0.0, 0.0, 0.0, 0.0, 0.0, -0.35000000000000014, 0.0, 0.0, 0.0, 0.0, 0.0, 0.0, 0.0, 0.0, 0.0, 0.0, -0.060000000000000005, 0.0, 0.0, 0.0, 0.0, 0.0, 0.0, -0.03, 0.0, 0.0, 0.0, -1.0, 0.0, 0.0, 0.0, -1.0, 0.0, 0.0, 0.0, 0.0, 0.0, -0.3100000000000001, 0.0, 0.0, 0.0, 0.0, 0.0, -0.12999999999999998, 0.0, 0.0, 0.0, -1.0, 0.0, 0.0, 0.0, 0.0, 0.0, 0.0, -0.05, 0.0, -1.0, -1.0, 0.0, 0.0, 0.0, 0.0, 0.0, 0.0, 0.0, 0.0, 0.0, 0.0, -1.0, 0.0, 0.0, 0.0, -0.13999999999999999, 0.0, 0.0, -1.0, 0.0, -1.0, 0.0, 0.0, 0.0, 0.0, 0.0, 0.0, 0.0, -0.11999999999999998, 0.0, -0.03, 0.0, 0.0, 0.0, 0.0, 0.0, 0.0, 0.0, 0.0, 0.0, 0.0, 0.0, 0.0, 0.0, -0.09999999999999999, 0.0, 0.0, 0.0, 0.0, -1.0, 0.0, 0.0, -0.07, 0.0, 0.0, 0.0, 0.0, 0.0, 0.0, -0.2700000000000001, 0.0, 0.0, 0.0, 0.0, 0.0, 0.0, 0.0, 0.0, 0.0, 0.0, 0.0, 0.0, 0.0, 0.0, 0.0, 0.0, 0.0, 0.0, 0.0, 0.0, -0.09, 0.0, 0.0, 0.0, 0.0, 0.0, 0.0, 0.0, 0.0, 0.0, 0.0, 0.0, -1.0, 0.0, 0.0, 0.0, 0.0, 0.0, 0.0, 0.0, 0.0, -1.0, 0.0, 0.0, 0.0, -0.09999999999999999, 0.0, 0.0, 0.0, 0.0, 0.0, 0.0, 0.0, 0.0, 0.0, 0.0, 0.0, 0.0, 0.0, -0.060000000000000005, 0.0, 0.0, 0.0, 0.0, 0.0, 0.0, 0.0, 0.0, 0.0, 0.0, 0.0, 0.0, 0.0, 0.0, 0.0, -1.0, 0.0, -1.0, 0.0, 0.0, 0.0, 0.0, 0.0, -1.0, 0.0, 0.0, 0.0, 0.0, 0.0, 0.0, 0.0, -1.0, 0.0, 0.0, 0.0, 0.0, 0.0, 0.0, 0.0, 0.0, 0.0, -0.18000000000000002, -0.09, 0.0, 0.0, -0.15, 0.0, 0.0, 0.0, 0.0, 0.0, 0.0, 0.0, 0.0, -0.03, 0.0, 0.0, 0.0, 0.0, 0.0, 0.0, 0.0, 0.0, -0.18000000000000002, 0.0, 0.0, 0.0, -1.0, 0.0, 0.0, 0.0, -1.0, 0.0, 0.0, 0.0, 0.0, -0.13999999999999999, 0.0, 0.0, 0.0, 0.0, 0.0, 0.0, 0.0, 0.0, 0.0, 0.0, 0.0, 0.0, 0.0, 0.0, 0.0, 0.0, -0.07, 0.0, 0.0, 0.0, -0.05, 0.0, -1.0, 0.0, 0.0, 0.0, 0.0, 0.0, 0.0, 0.0, 0.0, 0.0, 0.0, 0.0, -0.060000000000000005, 0.0, 0.0, 0.0, 0.0, 0.0, 0.0, 0.0, 0.0, -0.2900000000000001, 0.0, -0.2900000000000001, -0.07, 0.0, -1.0, 0.0, 0.0, -1.0, 0.0, 0.0, 0.0, 0.0, 0.0, 0.0, 0.0, 0.0, 0.0, 0.0, 0.0, -0.09999999999999999, 0.0, 0.0, 0.0, 0.0, 0.0, 0.0, -1.0, -1.0, 0.0, 0.0, 0.0, 0.0, 0.0, 0.0, 0.0, 0.0, 0.0, -1.0, 0.0, 0.0, 0.0, 0.0, 0.0, 0.0, -0.15, 0.0, 0.0, -0.02, -0.21000000000000005, 0.0, 0.0, 0.0, 0.0, -1.0, 0.0, 0.0, 0.0, 0.0, -1.0, 0.0, 0.0, 0.0, -1.0, 0.0, 0.0, -0.09, 0.0, 0.0, 0.0, 0.0, -1.0, -0.02, 0.0, 0.0, 0.0, 0.0, 0.0, 0.0, 0.0, -1.0, 0.0, 0.0, 0.0, 0.0, 0.0, 0.0, 0.0, 0.0, 0.0, 0.0, -1.0, 0.0, 0.0, 0.0, 0.0, -0.03, -0.2700000000000001, 0.0, -0.02, 0.0, -0.07, 0.0, 0.0, 0.0, 0.0, 0.0, -1.0, -1.0, 0.0, 0.0, 0.0, 0.0, -0.09999999999999999, 0.0, 0.0, 0.0, 0.0, 0.0, -0.02, 0.0, -1.0, 0.0, -1.0, 0.0, 0.0, -0.25000000000000006, 0.0, 0.0, 0.0, 0.0, 0.0, 0.0, 0.0, 0.0, 0.0, 0.0, 0.0, 0.0, 0.0, 0.0, 0.0, 0.0, 0.0, 0.0, 0.0, -0.060000000000000005, 0.0, 0.0, 0.0, 0.0, 0.0, 0.0, 0.0, 0.0, 0.0, 0.0, 0.0, 0.0, 0.0, 0.0, -0.04, 0.0, 0.0, -0.18000000000000002, 0.0, 0.0, 0.0, 0.0, 0.0, 0.0, 0.0, 0.0, 0.0, 0.0, 0.0, 0.0, 0.0, 0.0, 0.0, -1.0, 0.0, 0.0, 0.0, -0.4400000000000002, -0.060000000000000005, -0.08, 0.0, 0.0, -1.0, 0.0, 0.0, 0.0, -0.17, 0.0, 0.0, 0.0, 0.0, 0.0, 0.0, -0.03, 0.0, 0.0, 0.0, 0.0, 0.0, 0.0, 0.0, 0.0, 0.0, 0.0, 0.0, 0.0, 0.0, 0.0, -0.49000000000000027, 0.0, -0.060000000000000005, -1.0, 0.0, 0.0, 0.0, 0.0, -1.0, 0.0, 0.0, 0.0, 0.0, 0.0, 0.0, 0.0, 0.0, 0.0, -0.02, 0.0, 0.0, 0.0, 0.0, 0.0, 0.0, 0.0, 0.0, 0.0, 0.0, 0.0, 0.0, -0.08, -0.11999999999999998, -0.26000000000000006, 0.0, 0.0, -0.08, 0.0, 0.0, 0.0, 0.0, 0.0, 0.0, 0.0, 0.0, 0.0, 0.0, 0.0, -1.0, 0.0, 0.0, 0.0, 0.0, 0.0, 0.0, 0.0, 0.0, 0.0, 0.0, 0.0, 0.0, 0.0, 0.0, 0.0, 0.0, 0.0, -1.17, 0.0, 0.0, 0.0, -0.21000000000000005, 0.0, -1.0, -0.23000000000000007, 0.0, 0.0, 0.0, 0.0, 0.0, 0.0, 0.0, -1.03, 0.0, 0.0, -0.01, 0.0, 0.0, 0.0, -1.0, -1.0, 0.0, 0.0, 0.0, -0.02, 0.0, 0.0, 0.0, 0.0, 0.0, 0.0, 0.0, 0.0, 0.0, 0.0, 0.0, 0.0, 0.0, 0.0, 0.0, -0.01, 0.0, 0.0, 0.0, -1.0, 0.0, -0.02, 0.0, 0.0, 0.0, 0.0, 0.0, 0.0, -0.01, 0.0, 0.0, 0.0, 0.0, 0.0, 0.0, 0.0, 0.0, 0.0, -1.0, 0.0, 0.0, 0.0, -1.0, 0.0, 0.0, 0.0, 0.0, -0.04, 0.0, 0.0, 0.0, 0.0, 0.0, -0.26000000000000006, 0.0, 0.0, 0.0, -0.04, 0.0, -0.03, 0.0, 0.0, 0.0, -0.10999999999999999, 0.0, -1.0, 0.0, 0.0, 0.0, 0.0, -1.0, 0.0, 0.0, 0.0, 0.0, 0.0, 0.0, 0.0, 0.0, 0.0, 0.0, 0.0, 0.0, 0.0, 0.0, 0.0, 0.0, 0.0, 0.0, 0.0, 0.0, 0.0, 0.0, -0.060000000000000005, 0.0, 0.0, 0.0, 0.0, 0.0, 0.0, 0.0, 0.0, 0.0, 0.0, 0.0, -1.0, 0.0, 0.0, 0.0, 0.0, 0.0, 0.0, 0.0, 0.0, 0.0, 0.0, 0.0, 0.0, 0.0, 0.0, 0.0, 0.0, 0.0, 0.0, 0.0, 0.0, 0.0, 0.0, 0.0, -1.0, 0.0, -0.03, 0.0, 0.0, 0.0, 0.0, -1.0, 0.0, 0.0, 0.0, 0.0, 0.0, 0.0, 0.0, 0.0, 0.0, 0.0, 0.0, 0.0, -1.0, -1.0, 0.0, 0.0, 0.0, 0.0, 0.0, 0.0, 0.0, 0.0, 0.0, 0.0, 0.0, 0.0, 0.0, -0.07, 0.0, 0.0, 0.0, 0.0, -0.02, 0.0, 0.0, 0.0, 0.0, 0.0, 0.0, 0.0, 0.0, 0.0, 0.0, 0.0, 0.0, 0.0, 0.0, 0.0, 0.0, 0.0, 0.0, 0.0, 0.0, 0.0, -1.0, 0.0, 0.0, 0.0, 0.0, 0.0, -1.0, -0.20000000000000004, 0.0, 0.0, 0.0, -1.0, 0.0, 0.0, 0.0, 0.0, 0.0, 0.0, 0.0, 0.0, 0.0, 0.0, -1.0, -0.18000000000000002, 0.0, 0.0, -0.05, 0.0, 0.0, 0.0, 0.0, 0.0, 0.0, -0.11999999999999998, 0.0, 0.0, 0.0, 0.0, 0.0, 0.0, 0.0, 0.0, 0.0, 0.0, 0.0, -1.0, 0.0, -1.0, 0.0, 0.0, 0.0, 0.0, 0.0, 0.0, 0.0, 0.0, 0.0, 0.0, 0.0, 0.0, 0.0, 0.0, -1.0, 0.0, 0.0, 0.0, 0.0, 0.0, 0.0, 0.0, 0.0, 0.0, 0.0, -1.0, 0.0, 0.0, 0.0, 0.0, 0.0, 0.0, 0.0, 0.0, 0.0, 0.0, 0.0, 0.0, 0.0, 0.0, 0.0, 0.0, 0.0, 0.0, 0.0, 0.0, 0.0, 0.0, 0.0, 0.0, 0.0, 0.0, 0.0, 0.0, 0.0, 0.0, -0.10999999999999999, 0.0, 0.0, 0.0, 0.0, 0.0, 0.0, 0.0, -1.0, 0.0, -0.25000000000000006, 0.0, 0.0, 0.0, 0.0, 0.0, 0.0, 0.0, 0.0, 0.0, 0.0, 0.0, -0.20000000000000004, 0.0, -1.0, 0.0, 0.0, 0.0, 0.0, 0.0, 0.0, -0.02, 0.0, -1.0, -0.08, 0.0, -0.23000000000000007, 0.0, 0.0, 0.0, 0.0, -1.0, 0.0, 0.0, 0.0, -1.0, 0.0, 0.0, 0.0, 0.0, 0.0, 0.0, 0.0, 0.0, 0.0, 0.0, 0.0, 0.0, 0.0, 0.0, 0.0, -1.0, 0.0, 0.0, 0.0, 0.0, 0.0, 0.0, 0.0, 0.0, 0.0, 0.0, -1.0, 0.0, 0.0, 0.0, 0.0, 0.0, 0.0, 0.0, 0.0, 0.0, -1.0, 0.0, -1.0, -1.0, 0.0, 0.0, 0.0, 0.0, 0.0, -0.02, 0.0, -1.0, 0.0, 0.0, 0.0, 0.0, 0.0, 0.0, 0.0, -1.0, 0.0, -0.26000000000000006, 0.0, 0.0, 0.0, 0.0, 0.0, 0.0, 0.0, 0.0, 0.0, -0.10999999999999999, 0.0, 0.0, 0.0, 0.0, 0.0, 0.0, -1.0, 0.0, 0.0, 0.0, 0.0, 0.0, 0.0, 0.0, 0.0, 0.0, 0.0, 0.0, 0.0, 0.0, 0.0, 0.0, 0.0, 0.0, 0.0, 0.0, 0.0, 0.0, 0.0, 0.0, 0.0, 0.0, 0.0, 0.0, 0.0, 0.0, 0.0, 0.0, 0.0, 0.0, 0.0, 0.0, 0.0, -1.0, 0.0, -0.01, 0.0, 0.0, -0.12999999999999998, 0.0, 0.0, 0.0, 0.0, 0.0, 0.0, 0.0, -0.03, -0.25000000000000006, 0.0, 0.0, -1.0, 0.0, 0.0, 0.0, 0.0, 0.0, 0.0, 0.0, 0.0, -1.0, 0.0, 0.0, 0.0, 0.0, 0.0, -0.24000000000000007, 0.0, 0.0, 0.0, 0.0, 0.0, 0.0, 0.0, 0.0, 0.0, 0.0, 0.0, 0.0, 0.0, 0.0, 0.0, 0.0, 0.0, 0.0, 0.0, 0.0, 0.0, 0.0, 0.0, 0.0, 0.0, 0.0, 0.0, 0.0, 0.0, 0.0, 0.0, -0.03, 0.0, 0.0, -1.0, 0.0, 0.0, 0.0, 0.0, 0.0, 0.0, 0.0, 0.0, 0.0, 0.0, 0.0, 0.0, 0.0, 0.0, 0.0, 0.0, 0.0, 0.0, 0.0, 0.0, -1.0, -0.03, -1.0, -1.0, 0.0, 0.0, 0.0, 0.0, 0.0, 0.0, 0.0, 0.0, 0.0, 0.0, 0.0, 0.0, 0.0, 0.0, 0.0, 0.0, 0.0, -0.10999999999999999, 0.0, 0.0, 0.0, 0.0, 0.0, 0.0, -1.0, 0.0, 0.0, 0.0, 0.0, 0.0, 0.0, 0.0, 0.0, 0.0, 0.0, 0.0, 0.0, 0.0, 0.0, -0.17, 0.0, 0.0, 0.0, 0.0, 0.0, 0.0, 0.0, 0.0, 0.0, 0.0, 0.0, 0.0, 0.0, -1.0, 0.0, -1.0, 0.0, 0.0, 0.0, 0.0, -1.0, 0.0, 0.0, 0.0, -0.09, 0.0, 0.0, 0.0, 0.0, 0.0, 0.0, 0.0, 0.0, -1.0, 0.0, 0.0, 0.0, 0.0, 0.0, 0.0, 0.0, 0.0, 0.0, 0.0, -1.0, -1.0, 0.0, 0.0, 0.0, -1.0, 0.0, 0.0, 0.0, 0.0, -1.0, 0.0, 0.0, 0.0, -1.0, 0.0, 0.0, 0.0, 0.0, 0.0, 0.0, 0.0, 0.0, 0.0, 0.0, 0.0, 0.0, -1.0, 0.0, 0.0, -1.0, 0.0, 0.0, 0.0, 0.0, 0.0, 0.0, 0.0, 0.0, 0.0, 0.0, 0.0, -1.0, 0.0, 0.0, 0.0, 0.0, 0.0, -0.20000000000000004, 0.0, 0.0, 0.0, 0.0, -1.0, -1.0, 0.0, 0.0, 0.0, 0.0, 0.0, 0.0, 0.0, 0.0, 0.0, 0.0, 0.0, 0.0, 0.0, 0.0, 0.0, 0.0, 0.0, 0.0, 0.0, 0.0, 0.0, 0.0, 0.0, 0.0, 0.0, 0.0, 0.0, 0.0, 0.0, 0.0, 0.0, 0.0, 0.0, 0.0, 0.0, 0.0, 0.0, 0.0, 0.0, 0.0, 0.0, -0.02, 0.0, 0.0, 0.0, 0.0, 0.0, 0.0, 0.0, 0.0, 0.0, 0.0, 0.0, 0.0, 0.0, 0.0, 0.0, 0.0, 0.0, 0.0, 0.0, 0.0, 0.0, 0.0, 0.0, 0.0, 0.0, 0.0, 0.0, 0.0, 0.0, 0.0, 0.0, 0.0, 0.0, 0.0, 0.0, 0.0, 0.0, 0.0, 0.0, 0.0, 0.0, 0.0, 0.0, -0.02, 0.0, 0.0, 0.0, 0.0, 0.0, 0.0, 0.0, 0.0, -1.0, 0.0, 0.0, 0.0, -1.0, 0.0, 0.0, 0.0, 0.0, 0.0, -0.04, -0.04, 0.0, 0.0, 0.0, 0.0, 0.0, 0.0, 0.0, 0.0, 0.0, 0.0, 0.0, 0.0, 0.0, 0.0, 0.0, 0.0, 0.0, -0.03, 0.0, 0.0, 0.0, -1.0, -1.0, 0.0, 0.0, 0.0, 0.0, 0.0, 0.0, 0.0, 0.0, 0.0, 0.0, 0.0, 0.0, 0.0, 0.0, 0.0, 0.0, 0.0, 0.0, -0.19000000000000003, 0.0, 0.0, 0.0, 0.0, -1.0, 0.0, 0.0, 0.0, 0.0, 0.0, 0.0, 0.0, 0.0, 0.0, 0.0, 0.0, 0.0, 0.0, 0.0, -1.0, 0.0, 0.0, -1.0, 0.0, 0.0, -0.060000000000000005, 0.0, 0.0, 0.0, 0.0, 0.0, -0.10999999999999999, 0.0, 0.0, 0.0, 0.0, 0.0, 0.0, 0.0, 0.0, 0.0, 0.0, 0.0, 0.0, 0.0, 0.0, 0.0, -0.01, 0.0, 0.0, -1.0, 0.0, 0.0, 0.0, 0.0, 0.0, 0.0, 0.0, 0.0, 0.0, 0.0, 0.0, 0.0, -1.0, 0.0, 0.0, 0.0, 0.0, 0.0, 0.0, 0.0, 0.0, 0.0, 0.0, 0.0, 0.0, 0.0, 0.0, 0.0, 0.0, 0.0, 0.0, 0.0, 0.0, 0.0, 0.0, 0.0, 0.0, 0.0, 0.0, 0.0, 0.0, 0.0, 0.0, -1.0, 0.0, 0.0, -0.09, 0.0, 0.0, 0.0, 0.0, 0.0, 0.0, 0.0, 0.0, 0.0, 0.0, 0.0, 0.0, 0.0, -0.19000000000000003, 0.0, 0.0, 0.0, 0.0, -1.0, 0.0, 0.0, 0.0, 0.0, 0.0, 0.0, 0.0, -1.0, 0.0, 0.0, 0.0, -1.0, 0.0, 0.0, 0.0, 0.0, 0.0, 0.0, 0.0, 0.0, 0.0, -0.03, -0.25000000000000006, -1.0, 0.0, 0.0, 0.0, 0.0, 0.0, 0.0, 0.0, -1.0, 0.0, 0.0, 0.0, 0.0, 0.0, 0.0, 0.0, 0.0, 0.0, 0.0, -1.0, 0.0, 0.0, 0.0, 0.0, 0.0, 0.0, 0.0, 0.0, 0.0, 0.0, 0.0, 0.0, 0.0, 0.0, 0.0, 0.0, 0.0, 0.0, -1.0, 0.0, 0.0, 0.0, 0.0, 0.0, 0.0, 0.0, 0.0, -1.0, 0.0, 0.0, -1.0, 0.0, 0.0, 0.0, 0.0, 0.0, 0.0, 0.0, 0.0, 0.0, -1.0, 0.0, 0.0, 0.0, 0.0, -1.0, 0.0, 0.0, 0.0, 0.0, -0.01, 0.0, 0.0, 0.0, 0.0, 0.0, 0.0, 0.0, 0.0, 0.0, 0.0, 0.0, -0.08, -0.20000000000000004, -1.0, 0.0, 0.0, -0.11999999999999998, 0.0, 0.0, 0.0, 0.0, 0.0, 0.0, 0.0, 0.0, 0.0, 0.0, 0.0, 0.0, 0.0, 0.0, 0.0, -1.0, 0.0, 0.0, 0.0, 0.0, 0.0, 0.0, 0.0, -0.15, 0.0, 0.0, 0.0, 0.0, 0.0, 0.0, 0.0, 0.0, 0.0, 0.0, 0.0, 0.0, -1.0, 0.0, 0.0, 0.0, 0.0, -0.26000000000000006, 0.0, 0.0, 0.0, 0.0, 0.0, 0.0, -0.09999999999999999, 0.0, 0.0, 0.0, 0.0, 0.0, 0.0, -0.03, 0.0, 0.0, 0.0, 0.0, 0.0, 0.0, 0.0, 0.0, 0.0, -0.01, 0.0, 0.0, 0.0, 0.0, 0.0, 0.0, 0.0, 0.0, 0.0, -1.0, 0.0, 0.0, 0.0, 0.0, 0.0, -0.05, 0.0, 0.0, -1.0, 0.0, 0.0, 0.0, 0.0, 0.0, 0.0, 0.0, 0.0, 0.0, 0.0, 0.0, 0.0, 0.0, -0.13999999999999999, 0.0, 0.0, 0.0, 0.0, -1.0, 0.0, 0.0, 0.0, -0.16, 0.0, 0.0, 0.0, 0.0, 0.0, 0.0, 0.0, 0.0, 0.0, 0.0, 0.0, 0.0, 0.0, 0.0, 0.0, -0.12999999999999998, 0.0, -0.13999999999999999, 0.0, 0.0, 0.0, 0.0, -0.01, 0.0, 0.0, 0.0, 0.0, 0.0, 0.0, 0.0, 0.0, 0.0, 0.0, 0.0, 0.0, 0.0, 0.0, 0.0, 0.0, 0.0, 0.0, -0.15, 0.0, 0.0, 0.0, -1.0, 0.0, 0.0, 0.0, 0.0, -0.08, 0.0, 0.0, 0.0, 0.0, 0.0, 0.0, 0.0, 0.0, 0.0, 0.0, 0.0, 0.0, 0.0, 0.0, 0.0, 0.0, 0.0, 0.0, 0.0, 0.0, 0.0, 0.0, 0.0, 0.0, 0.0, 0.0, 0.0, 0.0, 0.0, 0.0, 0.0, 0.0, 0.0, 0.0, 0.0, 0.0, 0.0, 0.0, 0.0, 0.0, 0.0, 0.0, 0.0, 0.0, -0.08, 0.0, 0.0, 0.0, 0.0, 0.0, 0.0, -1.0, 0.0, 0.0, 0.0, 0.0, 0.0, 0.0, 0.0, 0.0, 0.0, 0.0, 0.0, 0.0, -1.0, 0.0, 0.0, 0.0, 0.0, -0.01, 0.0, 0.0, 0.0, 0.0, -1.0, 0.0, 0.0, -1.0, 0.0, 0.0, 0.0, -1.05, 0.0, 0.0, 0.0, 0.0, 0.0, 0.0, 0.0, 0.0, 0.0, 0.0, 0.0, 0.0, 0.0, 0.0, 0.0, 0.0, -1.0, 0.0, 0.0, 0.0, -1.0, 0.0, 0.0, -0.17, 0.0, 0.0, 0.0, 0.0, 0.0, 0.0, 0.0, 0.0, -1.0, 0.0, 0.0, 0.0, 0.0, 0.0, 0.0, 0.0, -0.3200000000000001, -1.0, 0.0, 0.0, 0.0, 0.0, 0.0, 0.0, 0.0, -0.24000000000000007, 0.0, 0.0, 0.0, -0.10999999999999999, 0.0, 0.0, 0.0, 0.0, 0.0, 0.0, 0.0, 0.0, 0.0, 0.0, 0.0, -1.0, -0.07, 0.0, -0.18000000000000002, -0.22000000000000006, 0.0, 0.0, 0.0, 0.0, 0.0, 0.0, 0.0, 0.0, 0.0, 0.0, -1.0, 0.0, 0.0, -1.0, 0.0, -0.04, 0.0, 0.0, 0.0, 0.0, 0.0, 0.0, 0.0, 0.0, 0.0, 0.0, 0.0, 0.0, 0.0, 0.0, 0.0, 0.0, 0.0, 0.0, 0.0, 0.0, 0.0, 0.0, 0.0, 0.0, 0.0, 0.0, -0.05, 0.0, 0.0, 0.0, -1.0, -1.0, 0.0, -1.0, 0.0, 0.0, 0.0, 0.0, 0.0, -0.08, 0.0, -1.0, 0.0, 0.0, 0.0, 0.0, 0.0, 0.0, 0.0, 0.0, 0.0, 0.0, -1.0, 0.0, 0.0, 0.0, 0.0, 0.0, 0.0, 0.0, 0.0, 0.0, 0.0, 0.0, 0.0, 0.0, -1.0, 0.0, 0.0, -1.0, 0.0, 0.0, 0.0, 0.0, 0.0, 0.0, 0.0, 0.0, 0.0, 0.0, -1.0, 0.0, 0.0, 0.0, 0.0, -1.0, 0.0, 0.0, 0.0, -1.0, 0.0, 0.0, 0.0, 0.0, -0.12999999999999998, 0.0, 0.0, 0.0, 0.0, 0.0, 0.0, 0.0, 0.0, -0.22000000000000006, 0.0, 0.0, 0.0, 0.0, -1.0, 0.0, 0.0, 0.0, 0.0, 0.0, -0.02, 0.0, 0.0, 0.0, 0.0, 0.0, 0.0, 0.0, 0.0, -1.0, 0.0, 0.0, 0.0, 0.0, 0.0, 0.0, -0.09, 0.0, 0.0, 0.0, 0.0, 0.0, -0.01, -1.0, 0.0, -0.09, 0.0, 0.0, -0.05, -1.08, 0.0, 0.0, 0.0, -0.16, 0.0, 0.0, 0.0, 0.0, 0.0, 0.0, 0.0, -1.0, 0.0, 0.0, 0.0, 0.0, 0.0, 0.0, 0.0, 0.0, 0.0, 0.0, 0.0, 0.0, 0.0, 0.0, -0.060000000000000005, 0.0, 0.0, 0.0, 0.0, 0.0, 0.0, -1.0, -0.05, 0.0, 0.0, 0.0, 0.0, 0.0, 0.0, 0.0, -0.10999999999999999, 0.0, 0.0, 0.0, -1.0, -0.2900000000000001, 0.0, 0.0, 0.0, -0.25000000000000006, 0.0, 0.0, 0.0, 0.0, 0.0, 0.0, 0.0, 0.0, 0.0, -0.2900000000000001, 0.0, 0.0, 0.0, 0.0, 0.0, -1.0, 0.0, 0.0, 0.0, 0.0, 0.0, 0.0, 0.0, 0.0, 0.0, 0.0, 0.0, 0.0, 0.0, 0.0, 0.0, 0.0, 0.0, 0.0, 0.0, 0.0, 0.0, -1.0, 0.0, 0.0, 0.0, 0.0, 0.0, 0.0, 0.0, 0.0, 0.0, 0.0, 0.0, -1.0, 0.0, 0.0, 0.0, -0.07, 0.0, 0.0, -0.15, 0.0, 0.0, 0.0, 0.0, 0.0, 0.0, 0.0, 0.0, 0.0, 0.0, -0.01, 0.0, 0.0, -1.0, -1.0, 0.0, -1.0, -1.0, 0.0, 0.0, 0.0, 0.0, 0.0, 0.0, 0.0, 0.0, 0.0, 0.0, 0.0, 0.0, 0.0, 0.0, 0.0, 0.0, -1.0, 0.0, 0.0, -1.0, 0.0, 0.0, 0.0, 0.0, 0.0, 0.0, -0.26000000000000006, 0.0, 0.0, 0.0, 0.0, 0.0, 0.0, 0.0, 0.0, 0.0, 0.0, 0.0, 0.0, 0.0, 0.0, 0.0, 0.0, -0.10999999999999999, 0.0, 0.0, 0.0, 0.0, -1.0, 0.0, 0.0, 0.0, 0.0, 0.0, 0.0, 0.0, 0.0, -0.07, 0.0, 0.0, 0.0, 0.0, 0.0, 0.0, 0.0, 0.0, 0.0, 0.0, 0.0, 0.0, 0.0, 0.0, 0.0, 0.0, 0.0, 0.0, 0.0, 0.0, -1.0, 0.0, 0.0, 0.0, 0.0, 0.0, 0.0, 0.0, 0.0, 0.0, -0.07, 0.0, 0.0, 0.0, -0.02, 0.0, 0.0, -0.03, -0.01, 0.0, 0.0, 0.0, 0.0, 0.0, 0.0, 0.0, 0.0, 0.0, 0.0, -1.0, 0.0, 0.0, -0.01, 0.0, 0.0, 0.0, 0.0, -0.02, 0.0, 0.0, 0.0, 0.0, 0.0, 0.0, 0.0, 0.0, 0.0, 0.0, 0.0, -0.16, 0.0, 0.0, -0.07, 0.0, 0.0, 0.0, 0.0, 0.0, 0.0, 0.0, 0.0, 0.0, -1.0, 0.0, 0.0, 0.0, 0.0, 0.0, 0.0, 0.0, 0.0, -1.0, -0.060000000000000005, 0.0, -0.01, 0.0, -0.01, 0.0, 0.0, 0.0, -0.04, 0.0, 0.0, 0.0, 0.0, 0.0, 0.0, 0.0, 0.0, 0.0, 0.0, 0.0, 0.0, 0.0, 0.0, 0.0, 0.0, -1.0, 0.0, -0.04, 0.0, 0.0, 0.0, 0.0, 0.0, -0.23000000000000007, 0.0, 0.0, 0.0, -1.0, 0.0, 0.0, 0.0, 0.0, 0.0, 0.0, 0.0, 0.0, 0.0, 0.0, 0.0, 0.0, -1.0, 0.0, 0.0, 0.0, 0.0, 0.0, 0.0, 0.0, 0.0, -0.060000000000000005, 0.0, -1.0, 0.0, 0.0, 0.0, 0.0, 0.0, 0.0, 0.0, 0.0, 0.0, 0.0, 0.0, 0.0, 0.0, -1.0, 0.0, 0.0, 0.0, 0.0, 0.0, 0.0, 0.0, 0.0, 0.0, 0.0, 0.0, 0.0, 0.0, 0.0, 0.0, 0.0, -0.05, 0.0, 0.0, 0.0, 0.0, 0.0, 0.0, 0.0, -1.0, 0.0, -0.17, 0.0, 0.0, 0.0, 0.0, 0.0, 0.0, 0.0, 0.0, -1.0, 0.0, -1.0, 0.0, 0.0, 0.0, -0.07, 0.0, -0.03, 0.0, 0.0, 0.0, 0.0, 0.0, -0.05, 0.0, 0.0, 0.0, -0.19000000000000003, 0.0, 0.0, 0.0, 0.0, 0.0, 0.0, 0.0, -1.0, 0.0, 0.0, 0.0, -1.0, 0.0, 0.0, -0.02, 0.0, -1.0, 0.0, 0.0, -1.0, 0.0, 0.0, 0.0, 0.0, 0.0, 0.0, 0.0, 0.0, -0.04, -0.03, 0.0, 0.0, -0.01, 0.0, 0.0, 0.0, 0.0, -1.0, 0.0, 0.0, 0.0, 0.0, 0.0, -0.04, 0.0, 0.0, 0.0, -1.0, 0.0, 0.0, 0.0, -0.19000000000000003, 0.0, -0.17, 0.0, -1.0, 0.0, 0.0, -1.0, -0.12999999999999998, 0.0, 0.0, 0.0, 0.0, 0.0, 0.0, 0.0, 0.0, 0.0, -1.0, 0.0, 0.0, 0.0, 0.0, 0.0, 0.0, 0.0, 0.0, 0.0, 0.0, 0.0, 0.0, 0.0, 0.0, 0.0, 0.0, 0.0, 0.0, -1.0, 0.0, 0.0, 0.0, 0.0, 0.0, 0.0, 0.0, 0.0, 0.0, 0.0, -1.0, 0.0, 0.0, 0.0, -0.05, 0.0, 0.0, 0.0, 0.0, 0.0, 0.0, 0.0, 0.0, 0.0, 0.0, 0.0, 0.0, 0.0, 0.0, 0.0, 0.0, 0.0, -1.0, 0.0, 0.0, 0.0, 0.0, 0.0, 0.0, 0.0, 0.0, 0.0, -1.0, 0.0, 0.0, 0.0, 0.0, 0.0, 0.0, -1.0, -1.0, 0.0, 0.0, -1.0, 0.0, 0.0, 0.0, 0.0, 0.0, -0.060000000000000005, 0.0, 0.0, 0.0, 0.0, 0.0, 0.0, 0.0, 0.0, 0.0, 0.0, 0.0, 0.0, 0.0, 0.0, -0.02, 0.0, 0.0, 0.0, 0.0, -1.0, 0.0, 0.0, 0.0, -1.0, 0.0, -1.0, 0.0, 0.0, 0.0, 0.0, 0.0, 0.0, 0.0, 0.0, 0.0, 0.0, 0.0, -0.36000000000000015, 0.0, 0.0, -1.0, 0.0, 0.0, 0.0, 0.0, 0.0, 0.0, 0.0, 0.0, 0.0, 0.0, 0.0, 0.0, 0.0, 0.0, 0.0, 0.0, 0.0, 0.0, 0.0, 0.0, 0.0, 0.0, -0.20000000000000004, 0.0, 0.0, 0.0, 0.0, -0.5200000000000002, 0.0, 0.0, 0.0, 0.0, 0.0, 0.0, 0.0, 0.0, 0.0, 0.0, 0.0, 0.0, 0.0, 0.0, 0.0, 0.0, 0.0, 0.0, 0.0, 0.0, 0.0, 0.0, 0.0, 0.0, 0.0, 0.0, 0.0, 0.0, 0.0, 0.0, 0.0, 0.0, 0.0, 0.0, 0.0, -1.0, -1.0, 0.0, 0.0, 0.0, -1.0, -1.0, 0.0, 0.0, 0.0, 0.0, -0.12999999999999998, 0.0, 0.0, 0.0, 0.0, 0.0, -0.05, 0.0, 0.0, 0.0, 0.0, 0.0, 0.0, 0.0, -0.12999999999999998, 0.0, 0.0, -1.0, 0.0, 0.0, 0.0, 0.0, -1.0, 0.0, -0.08, 0.0, 0.0, 0.0, 0.0, -0.01, 0.0, 0.0, 0.0, 0.0, 0.0, -1.0, 0.0, 0.0, 0.0, 0.0, 0.0, 0.0, 0.0, 0.0, 0.0, 0.0, 0.0, 0.0, 0.0, 0.0, 0.0, 0.0, 0.0, -1.0, 0.0, 0.0, 0.0, 0.0, -1.0, -0.17, 0.0, 0.0, 0.0, 0.0, 0.0, 0.0, 0.0, 0.0, 0.0, -0.04, 0.0, 0.0, 0.0, 0.0], &#x27;policy_predator_reward&#x27;: [1.72, 2.0, 1.0, 3.0, 1.0, 5.0, 1.0, 0.96, 1.0, 0.0, 3.0, 0.5899999999999997, 2.2700000000000022, -0.18000000000000002, 1.0, 0.0, -0.3300000000000001, 0.7799999999999998, 0.94, -0.3100000000000001, 2.0, 2.0, 0.0, -0.3100000000000001, 0.0, 1.6399999999999997, 1.0, -0.26000000000000006, 1.0, 3.0, 3.0, 0.87, 1.95, 1.0, 1.5499999999999998, 1.5999999999999996, -0.11999999999999998, 0.0, 0.7199999999999998, 0.0, 1.0, -0.6100000000000003, 1.9, -0.10999999999999999, 0.0, 1.0, 2.6399999999999997, 1.0, 0.0, 2.0, 1.0, 1.0, -0.5100000000000002, 2.0, 0.0, 1.0, 0.0, 1.7999999999999998, 0.0, 2.0, 2.0, 0.8799999999999999, 0.0, 1.0, 1.0, 3.0, 0.0, -0.09999999999999999, -0.10999999999999999, 2.0, 2.0, 1.0, 2.0, 3.0, 2.0, 0.0, 0.9, 0.0, -0.11999999999999998, 2.0, 1.0, -2.0799999999999996, -0.060000000000000005, 1.0, 1.0, 1.7499999999999998, -0.18000000000000002, 0.7799999999999998, 2.0, 1.1399999999999995, 0.6599999999999999, 4.0, 2.0, 3.0, -0.5200000000000002, 0.0, 0.0, 0.0, 0.0, 0.0, 1.0, 0.6499999999999997, 0.3999999999999996, 1.0, 1.0, 2.0, 2.0, 0.0, -0.08, -0.3000000000000001, 0.94, 1.0, 2.5599999999999996, 1.0, 1.79, -0.09999999999999999, 3.91, 0.0, 0.0, 1.5299999999999998, -0.15, 1.0, -0.6400000000000003, 1.0, -0.11999999999999998, 1.73, -0.35000000000000014, -0.2800000000000001, -0.8100000000000005, 1.0, -0.3300000000000001, 0.0, 1.0, 1.0, 1.0, 1.5199999999999998, 0.96, 2.5199999999999996, 1.0, -0.15, -0.46000000000000024, 2.0, 2.0, 2.0, 2.0, 0.95, 2.0, 1.89, 1.0, 1.0, 1.0, 1.0, -0.25000000000000006, 2.0, 1.0, 0.0, 1.0, 0.95, 2.8300000000000036, 2.0, 0.7899999999999998, 0.0, 0.0, 1.0, -0.48000000000000026, 1.8199999999999998, 0.0, -0.25000000000000006, 2.0, -0.2700000000000001, 1.0, 0.47999999999999976, 0.0, 3.0, 0.02999999999999936, -0.07, 1.5999999999999999, 1.0, 1.4099999999999995, 2.0, 0.8899999999999999, 2.0, -0.11999999999999998, 2.0, 2.0, -0.12999999999999998, 1.7599999999999998, 2.0, 1.7999999999999998, 0.83, 1.0, 0.0, -0.12999999999999998, -0.07, 1.0, 3.0, 0.3099999999999996, 2.0, -0.21000000000000005, 2.0]}, &#x27;sampler_perf&#x27;: {&#x27;mean_raw_obs_processing_ms&#x27;: 16.23818121002665, &#x27;mean_inference_ms&#x27;: 2.3959134216108695, &#x27;mean_action_processing_ms&#x27;: 1.653119082172781, &#x27;mean_env_wait_ms&#x27;: 6.102384830253413, &#x27;mean_env_render_ms&#x27;: 0.0}, &#x27;num_faulty_episodes&#x27;: 0, &#x27;connector_metrics&#x27;: {&#x27;ObsPreprocessorConnector_ms&#x27;: 0.015424847602844238, &#x27;StateBufferConnector_ms&#x27;: 0.013170242309570312, &#x27;ViewRequirementAgentConnector_ms&#x27;: 1.9482885599136353}, &#x27;num_episodes&#x27;: 22, &#x27;episode_return_max&#x27;: 0.0, &#x27;episode_return_min&#x27;: -2.3199999999999945, &#x27;episode_return_mean&#x27;: -0.4896999999999997, &#x27;episodes_this_iter&#x27;: 22}</td><td>{}             </td><td>MacBook-Pro-de-Tanguy.local</td><td>{&#x27;learner&#x27;: {&#x27;predator&#x27;: {&#x27;vf_loss&#x27;: 0.006170559208840132, &#x27;num_trainable_parameters&#x27;: 157445.0, &#x27;num_module_steps_trained&#x27;: 33964, &#x27;curr_entropy_coeff&#x27;: 0.0, &#x27;mean_kl_loss&#x27;: 0.016131693497300148, &#x27;entropy&#x27;: 2.8569726943969727, &#x27;vf_loss_unclipped&#x27;: 0.006170559208840132, &#x27;curr_kl_coeff&#x27;: 0.30000001192092896, &#x27;policy_loss&#x27;: -0.1064554750919342, &#x27;total_loss&#x27;: -0.0954454094171524, &#x27;default_optimizer_learning_rate&#x27;: 5e-05, &#x27;vf_explained_var&#x27;: 0.12016910314559937, &#x27;num_non_trainable_parameters&#x27;: 0.0}, &#x27;prey&#x27;: {&#x27;num_module_steps_trained&#x27;: 490492, &#x27;curr_entropy_coeff&#x27;: 0.0, &#x27;mean_kl_loss&#x27;: 0.007941948249936104, &#x27;entropy&#x27;: 2.742658853530884, &#x27;vf_loss_unclipped&#x27;: 1.1772305697377305e-05, &#x27;curr_kl_coeff&#x27;: 0.05000000074505806, &#x27;policy_loss&#x27;: -0.08082485944032669, &#x27;total_loss&#x27;: -0.1758614033460617, &#x27;vf_explained_var&#x27;: 0.21066975593566895, &#x27;default_optimizer_learning_rate&#x27;: 5e-05, &#x27;num_non_trainable_parameters&#x27;: 0.0, &#x27;vf_loss&#x27;: 1.1772305697377305e-05, &#x27;num_trainable_parameters&#x27;: 157445.0}, &#x27;__all_modules__&#x27;: {&#x27;total_loss&#x27;: -0.1758614033460617, &#x27;num_non_trainable_parameters&#x27;: 0.0, &#x27;num_trainable_parameters&#x27;: 314890.0, &#x27;num_env_steps_trained&#x27;: 16982, &#x27;num_module_steps_trained&#x27;: 524456}}, &#x27;num_env_steps_sampled&#x27;: 135066, &#x27;num_env_steps_trained&#x27;: 0, &#x27;num_agent_steps_sampled&#x27;: 4195691, &#x27;num_agent_steps_trained&#x27;: 0}</td><td style=\"text-align: right;\">                         8</td><td>127.0.0.1</td><td style=\"text-align: right;\">                  4195691</td><td style=\"text-align: right;\">                           4195691</td><td style=\"text-align: right;\">                             524456</td><td style=\"text-align: right;\">                                     5544.99</td><td style=\"text-align: right;\">                        0</td><td style=\"text-align: right;\">                                  0</td><td style=\"text-align: right;\">                                           0</td><td style=\"text-align: right;\">                 135066</td><td style=\"text-align: right;\">                         4195691</td><td style=\"text-align: right;\">                      0</td><td style=\"text-align: right;\">                   11</td><td style=\"text-align: right;\">                                0</td><td style=\"text-align: right;\">                           0</td><td style=\"text-align: right;\">                            0</td><td>{&#x27;cpu_util_percent&#x27;: 51.826666666666675, &#x27;ram_util_percent&#x27;: 49.66484848484849}</td><td style=\"text-align: right;\">19300</td><td style=\"text-align: right;\">             822.543</td><td style=\"text-align: right;\">           100.458</td><td style=\"text-align: right;\">       822.543</td><td>{&#x27;training_iteration_time_ms&#x27;: 97619.325, &#x27;restore_workers_time_ms&#x27;: 0.02, &#x27;training_step_time_ms&#x27;: 97619.264, &#x27;sample_time_ms&#x27;: 42556.841, &#x27;synch_weights_time_ms&#x27;: 19.942}</td><td style=\"text-align: right;\"> 1725116823</td><td style=\"text-align: right;\">          4195691</td><td style=\"text-align: right;\">                   8</td><td>7ee3a_00000</td></tr>\n",
       "</tbody>\n",
       "</table>\n",
       "</div>\n",
       "<style>\n",
       ".trialProgress {\n",
       "  display: flex;\n",
       "  flex-direction: column;\n",
       "  color: var(--jp-ui-font-color1);\n",
       "}\n",
       ".trialProgress h3 {\n",
       "  font-weight: bold;\n",
       "}\n",
       ".trialProgress td {\n",
       "  white-space: nowrap;\n",
       "}\n",
       "</style>\n"
      ],
      "text/plain": [
       "<IPython.core.display.HTML object>"
      ]
     },
     "metadata": {},
     "output_type": "display_data"
    },
    {
     "name": "stderr",
     "output_type": "stream",
     "text": [
      "2024-08-31 16:53:29,106\tWARNING tensorboardx.py:265 -- You are trying to log an invalid value (ray/tune/env_runners/episode_media/rendering=[<wandb.sdk.data_types.video.Video object at 0x3ef3c0090>, <wandb.sdk.data_types.video.Video object at 0x3ef3c0550>, <wandb.sdk.data_types.video.Video object at 0x3ef3c0590>, <wandb.sdk.data_types.video.Video object at 0x3ef3c0650>, <wandb.sdk.data_types.video.Video object at 0x3ef3c0690>, <wandb.sdk.data_types.video.Video object at 0x3ef3c0750>, <wandb.sdk.data_types.video.Video object at 0x3ef3c0790>, <wandb.sdk.data_types.video.Video object at 0x3ef3c0890>, <wandb.sdk.data_types.video.Video object at 0x3ef3c08d0>, <wandb.sdk.data_types.video.Video object at 0x3ef3c0a10>, <wandb.sdk.data_types.video.Video object at 0x3ef3c0a50>, <wandb.sdk.data_types.video.Video object at 0x3ef3c0d10>, <wandb.sdk.data_types.video.Video object at 0x3ef3c0dd0>, <wandb.sdk.data_types.video.Video object at 0x3ef3c0f50>, <wandb.sdk.data_types.video.Video object at 0x3ef3c1010>, <wandb.sdk.data_types.video.Video object at 0x3ef3c1190>, <wandb.sdk.data_types.video.Video object at 0x3ef3c1250>, <wandb.sdk.data_types.video.Video object at 0x3ef3c13d0>, <wandb.sdk.data_types.video.Video object at 0x3ef3c1490>, <wandb.sdk.data_types.video.Video object at 0x3ef3c1610>, <wandb.sdk.data_types.video.Video object at 0x3ef3c16d0>, <wandb.sdk.data_types.video.Video object at 0x3ef3c1850>]) via TBXLoggerCallback!\n",
      "2024-08-31 16:53:29,117\tWARNING util.py:201 -- The `callbacks.on_trial_result` operation took 7.082 s, which may be a performance bottleneck.\n",
      "2024-08-31 16:53:29,119\tWARNING util.py:201 -- The `process_trial_result` operation took 7.084 s, which may be a performance bottleneck.\n",
      "2024-08-31 16:53:29,119\tWARNING util.py:201 -- Processing trial results took 7.085 s, which may be a performance bottleneck. Please consider reporting results less frequently to Ray Tune.\n",
      "2024-08-31 16:53:29,121\tWARNING util.py:201 -- The `process_trial_result` operation took 7.087 s, which may be a performance bottleneck.\n",
      "\u001b[36m(raylet)\u001b[0m Spilled 2406 MiB, 11 objects, write throughput 2833 MiB/s. Set RAY_verbose_spill_logs=0 to disable this message.\n",
      "2024-08-31 16:55:16,053\tWARNING util.py:201 -- The `callbacks.on_trial_result` operation took 2.482 s, which may be a performance bottleneck.\n",
      "2024-08-31 16:55:16,055\tWARNING util.py:201 -- The `process_trial_result` operation took 2.484 s, which may be a performance bottleneck.\n",
      "2024-08-31 16:55:16,056\tWARNING util.py:201 -- Processing trial results took 2.485 s, which may be a performance bottleneck. Please consider reporting results less frequently to Ray Tune.\n",
      "2024-08-31 16:55:16,056\tWARNING util.py:201 -- The `process_trial_result` operation took 2.486 s, which may be a performance bottleneck.\n",
      "2024-08-31 16:55:32,480\tERROR worker.py:409 -- Unhandled error (suppress with 'RAY_IGNORE_UNHANDLED_ERRORS=1'): \u001b[36mray::_WandbLoggingActor.run()\u001b[39m (pid=19352, ip=127.0.0.1, actor_id=5ce6cb5f4dc156b21b601b0701000000, repr=<ray.air.integrations.wandb._WandbLoggingActor object at 0x1071c2510>)\n",
      "FileNotFoundError: [Errno 2] No such file or directory: '/var/folders/c9/p_q1xbbj7sv7nwvd_17c75lh0000gn/T/tmp3rygjw18wandb-media/c5okoj8l.gif' -> '/private/tmp/ray/session_2024-08-31_16-51-23_896119_19273/artifacts/2024-08-31_16-51-25/PPO_2024-08-31_16-51-25/driver_artifacts/PPO_Particle2dEnvironment_7ee3a_00000_0_2024-08-31_16-51-25/wandb/run-20240831_165148-7ee3a_00000/files/media/videos/env_runners/episode_media/rendering_1_3e722c482ea5946df0dd.gif'\n",
      "\n",
      "During handling of the above exception, another exception occurred:\n",
      "\n",
      "\u001b[36mray::_WandbLoggingActor.run()\u001b[39m (pid=19352, ip=127.0.0.1, actor_id=5ce6cb5f4dc156b21b601b0701000000, repr=<ray.air.integrations.wandb._WandbLoggingActor object at 0x1071c2510>)\n",
      "           ^^^^^^^^^^^^^^^^^^^^^^^^^^^^^^^^^^^^\n",
      "           ^^^^^^^^^^^^^^^^^^^^^^^^^^^^^^^\n",
      "  File \"/Users/tanguy/miniforge3/envs/collective_env/lib/python3.11/site-packages/ray/air/integrations/wandb.py\", line 419, in run\n",
      "    self._wandb.log(log, step=log.get(TRAINING_ITERATION))\n",
      "  File \"/Users/tanguy/miniforge3/envs/collective_env/lib/python3.11/site-packages/wandb/sdk/wandb_run.py\", line 450, in wrapper\n",
      "    return func(self, *args, **kwargs)\n",
      "           ^^^^^^^^^^^^^^^^^^^^^^^^^^^\n",
      "  File \"/Users/tanguy/miniforge3/envs/collective_env/lib/python3.11/site-packages/wandb/sdk/wandb_run.py\", line 401, in wrapper_fn\n",
      "    return func(self, *args, **kwargs)\n",
      "           ^^^^^^^^^^^^^^^^^^^^^^^^^^^\n",
      "  File \"/Users/tanguy/miniforge3/envs/collective_env/lib/python3.11/site-packages/wandb/sdk/wandb_run.py\", line 391, in wrapper\n",
      "    return func(self, *args, **kwargs)\n",
      "           ^^^^^^^^^^^^^^^^^^^^^^^^^^^\n",
      "  File \"/Users/tanguy/miniforge3/envs/collective_env/lib/python3.11/site-packages/wandb/sdk/wandb_run.py\", line 1924, in log\n",
      "    self._log(data=data, step=step, commit=commit)\n",
      "  File \"/Users/tanguy/miniforge3/envs/collective_env/lib/python3.11/site-packages/wandb/sdk/wandb_run.py\", line 1645, in _log\n",
      "    self._partial_history_callback(data, step, commit)\n",
      "  File \"/Users/tanguy/miniforge3/envs/collective_env/lib/python3.11/site-packages/wandb/sdk/wandb_run.py\", line 1517, in _partial_history_callback\n",
      "    self._backend.interface.publish_partial_history(\n",
      "  File \"/Users/tanguy/miniforge3/envs/collective_env/lib/python3.11/site-packages/wandb/sdk/interface/interface.py\", line 626, in publish_partial_history\n",
      "    data = history_dict_to_json(run, data, step=user_step, ignore_copy_err=True)\n",
      "           ^^^^^^^^^^^^^^^^^^^^^^^^^^^^^^^^^^^^^^^^^^^^^^^^^^^^^^^^^^^^^^^^^^^^^\n",
      "  File \"/Users/tanguy/miniforge3/envs/collective_env/lib/python3.11/site-packages/wandb/sdk/data_types/utils.py\", line 52, in history_dict_to_json\n",
      "    payload[key] = val_to_json(\n",
      "                   ^^^^^^^^^^^^\n",
      "  File \"/Users/tanguy/miniforge3/envs/collective_env/lib/python3.11/site-packages/wandb/sdk/data_types/utils.py\", line 104, in val_to_json\n",
      "    item.bind_to_run(\n",
      "  File \"/Users/tanguy/miniforge3/envs/collective_env/lib/python3.11/site-packages/wandb/sdk/data_types/base_types/media.py\", line 131, in bind_to_run\n",
      "    shutil.move(self._path, new_path)\n",
      "  File \"/Users/tanguy/miniforge3/envs/collective_env/lib/python3.11/shutil.py\", line 873, in move\n",
      "    copy_function(src, real_dst)\n",
      "  File \"/Users/tanguy/miniforge3/envs/collective_env/lib/python3.11/shutil.py\", line 448, in copy2\n",
      "    copyfile(src, dst, follow_symlinks=follow_symlinks)\n",
      "  File \"/Users/tanguy/miniforge3/envs/collective_env/lib/python3.11/shutil.py\", line 256, in copyfile\n",
      "    with open(src, 'rb') as fsrc:\n",
      "         ^^^^^^^^^^^^^^^\n",
      "FileNotFoundError: [Errno 2] No such file or directory: '/var/folders/c9/p_q1xbbj7sv7nwvd_17c75lh0000gn/T/tmp3rygjw18wandb-media/c5okoj8l.gif'\n",
      "\u001b[36m(raylet)\u001b[0m Spilled 5492 MiB, 31 objects, write throughput 3621 MiB/s.\n",
      "2024-08-31 16:57:07,577\tWARNING util.py:201 -- The `callbacks.on_trial_result` operation took 5.648 s, which may be a performance bottleneck.\n",
      "2024-08-31 16:57:07,596\tWARNING util.py:201 -- The `process_trial_result` operation took 5.667 s, which may be a performance bottleneck.\n",
      "2024-08-31 16:57:07,596\tWARNING util.py:201 -- Processing trial results took 5.667 s, which may be a performance bottleneck. Please consider reporting results less frequently to Ray Tune.\n",
      "2024-08-31 16:57:07,596\tWARNING util.py:201 -- The `process_trial_result` operation took 5.668 s, which may be a performance bottleneck.\n",
      "\u001b[36m(raylet)\u001b[0m Spilled 14352 MiB, 52 objects, write throughput 1092 MiB/s.\n",
      "\u001b[36m(_WandbLoggingActor pid=19352)\u001b[0m wandb: Network error (ConnectionError), entering retry loop.\n",
      "\u001b[36m(_WandbLoggingActor pid=19352)\u001b[0m wandb: Network error resolved after 0:01:04.071654, resuming normal operation.\n",
      "2024-08-31 16:59:05,869\tWARNING util.py:201 -- The `callbacks.on_trial_result` operation took 7.445 s, which may be a performance bottleneck.\n",
      "2024-08-31 16:59:05,874\tWARNING util.py:201 -- The `process_trial_result` operation took 7.451 s, which may be a performance bottleneck.\n",
      "2024-08-31 16:59:05,875\tWARNING util.py:201 -- Processing trial results took 7.452 s, which may be a performance bottleneck. Please consider reporting results less frequently to Ray Tune.\n",
      "2024-08-31 16:59:05,875\tWARNING util.py:201 -- The `process_trial_result` operation took 7.453 s, which may be a performance bottleneck.\n",
      "\u001b[36m(raylet)\u001b[0m Spilled 17570 MiB, 78 objects, write throughput 1254 MiB/s.\n",
      "2024-08-31 17:01:10,182\tWARNING util.py:201 -- The `callbacks.on_trial_result` operation took 8.948 s, which may be a performance bottleneck.\n",
      "2024-08-31 17:01:10,196\tWARNING util.py:201 -- The `process_trial_result` operation took 8.962 s, which may be a performance bottleneck.\n",
      "2024-08-31 17:01:10,197\tWARNING util.py:201 -- Processing trial results took 8.963 s, which may be a performance bottleneck. Please consider reporting results less frequently to Ray Tune.\n",
      "2024-08-31 17:01:10,197\tWARNING util.py:201 -- The `process_trial_result` operation took 8.964 s, which may be a performance bottleneck.\n",
      "\u001b[36m(raylet)\u001b[0m Spilled 41263 MiB, 106 objects, write throughput 938 MiB/s.\n",
      "2024-08-31 17:03:17,789\tWARNING util.py:201 -- The `callbacks.on_trial_result` operation took 7.702 s, which may be a performance bottleneck.\n",
      "2024-08-31 17:03:17,811\tWARNING util.py:201 -- The `process_trial_result` operation took 7.725 s, which may be a performance bottleneck.\n",
      "2024-08-31 17:03:17,812\tWARNING util.py:201 -- Processing trial results took 7.725 s, which may be a performance bottleneck. Please consider reporting results less frequently to Ray Tune.\n",
      "2024-08-31 17:03:17,812\tWARNING util.py:201 -- The `process_trial_result` operation took 7.726 s, which may be a performance bottleneck.\n",
      "2024-08-31 17:05:22,921\tWARNING util.py:201 -- The `callbacks.on_trial_result` operation took 8.541 s, which may be a performance bottleneck.\n",
      "2024-08-31 17:05:22,954\tWARNING util.py:201 -- The `process_trial_result` operation took 8.575 s, which may be a performance bottleneck.\n",
      "2024-08-31 17:05:22,955\tWARNING util.py:201 -- Processing trial results took 8.575 s, which may be a performance bottleneck. Please consider reporting results less frequently to Ray Tune.\n",
      "2024-08-31 17:05:22,955\tWARNING util.py:201 -- The `process_trial_result` operation took 8.576 s, which may be a performance bottleneck.\n",
      "\u001b[36m(raylet)\u001b[0m Spilled 74909 MiB, 150 objects, write throughput 901 MiB/s.\n",
      "2024-08-31 17:07:22,604\tWARNING util.py:201 -- The `callbacks.on_trial_result` operation took 10.031 s, which may be a performance bottleneck.\n",
      "2024-08-31 17:07:22,611\tWARNING util.py:201 -- The `process_trial_result` operation took 10.039 s, which may be a performance bottleneck.\n",
      "2024-08-31 17:07:22,611\tWARNING util.py:201 -- Processing trial results took 10.039 s, which may be a performance bottleneck. Please consider reporting results less frequently to Ray Tune.\n",
      "2024-08-31 17:07:22,612\tWARNING util.py:201 -- The `process_trial_result` operation took 10.040 s, which may be a performance bottleneck.\n"
     ]
    }
   ],
   "source": [
    "from ray import train, tune\n",
    "from ray.tune import Tuner\n",
    "from ray.air.integrations.wandb import WandbLoggerCallback\n",
    "from ray.rllib.utils.test_utils import check_learning_achieved\n",
    "import os\n",
    "\n",
    "ray.init(\n",
    "    num_cpus=num_cpus, \n",
    "    num_gpus=num_gpus\n",
    ")\n",
    "\n",
    "# Stop criterium\n",
    "stop = {  \n",
    "    \"training_iteration\": 1500,\n",
    "    #\"timesteps_total\": 200000000,\n",
    "}\n",
    "\n",
    "# Read the API key from the file to use Wanddb\n",
    "with open('wandb_api_key.txt', 'r') as file:\n",
    "    api_key = file.read().strip()\n",
    "callbacks = [\n",
    "    WandbLoggerCallback(                   \n",
    "        project=\"marl-rllib\", \n",
    "        group=ALGO,\n",
    "        api_key=api_key,\n",
    "        log_config=True,\n",
    "        upload_checkpoints=True\n",
    "    ), \n",
    "]\n",
    "\n",
    "# When to save the models \n",
    "checkpoint_config = train.CheckpointConfig(         \n",
    "    checkpoint_at_end=True,\n",
    "    checkpoint_frequency=10,\n",
    ")\n",
    "\n",
    "# Where to save \n",
    "# absolute path + ray_results directory\n",
    "storage_path=os.getcwd() + \"/ray_results\"\n",
    "\n",
    "if path_to_checkpoint is None : \n",
    "    tuner = tune.Tuner(\n",
    "        ALGO,                                                 # Defined before\n",
    "        param_space=config,                                   # Defined before\n",
    "        run_config=train.RunConfig(    \n",
    "            storage_path=storage_path,\n",
    "            stop=stop,\n",
    "            verbose=3,\n",
    "            callbacks=callbacks,\n",
    "            checkpoint_config=checkpoint_config,\n",
    "        ),\n",
    "    )\n",
    "    # Run the experiment \n",
    "    results = tuner.fit()\n",
    "\n",
    "# If we instantiate previously trained neural network\n",
    "else: \n",
    "    callbacks.append(RestoreWeightsCallback)\n",
    "\n",
    "    results = tune.run(\n",
    "        ALGO,\n",
    "        config=config.to_dict(),\n",
    "        storage_path=storage_path,\n",
    "        stop=stop,\n",
    "        verbose=3,\n",
    "        callbacks=callbacks,\n",
    "        checkpoint_config=checkpoint_config,\n",
    "    )\n",
    "\n",
    "\n",
    "ray.shutdown()\n"
   ]
  },
  {
   "cell_type": "raw",
   "id": "43c80fe3-9e29-46f5-95b4-38e1f582eb27",
   "metadata": {},
   "source": [
    "from ray import tune\n",
    "\n",
    "ray.init(\n",
    "    num_cpus=num_cpus, \n",
    "    num_gpus=num_gpus\n",
    ")\n",
    "\n",
    "experiment_dir = os.getcwd() + \"/ray_results\" + \"PPO_2023-12-10_17-58-05/\"\n",
    "# Restore the training\n",
    "tuner = tune.Tuner.restore(\n",
    "    experiment_dir, \n",
    "    trainable=tune.with_resources(\n",
    "        tune.with_parameters(self.model),\n",
    "        resources={\"cpu\": self.cpuFrac, \"gpu\": self.gpuFrac}\n",
    "    ),\n",
    "    resume_unfinished=True, \n",
    "    resume_errored=True,\n",
    "    restart_errored=False,\n",
    ")\n",
    "\n",
    "results = tuner.fit()\n",
    "\n",
    "ray.shutdown()\n"
   ]
  },
  {
   "cell_type": "code",
   "execution_count": null,
   "id": "320d90a6-5207-4d0c-86bb-c1bef3ae8ca6",
   "metadata": {},
   "outputs": [],
   "source": []
  },
  {
   "cell_type": "code",
   "execution_count": null,
   "id": "39109cdb-4e78-4dee-b0bc-fb0d61b98b5c",
   "metadata": {},
   "outputs": [],
   "source": []
  }
 ],
 "metadata": {
  "kernelspec": {
   "display_name": "collective_env",
   "language": "python",
   "name": "collective_env"
  },
  "language_info": {
   "codemirror_mode": {
    "name": "ipython",
    "version": 3
   },
   "file_extension": ".py",
   "mimetype": "text/x-python",
   "name": "python",
   "nbconvert_exporter": "python",
   "pygments_lexer": "ipython3",
   "version": "3.11.9"
  }
 },
 "nbformat": 4,
 "nbformat_minor": 5
}
